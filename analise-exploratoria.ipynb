{
 "cells": [
  {
   "cell_type": "markdown",
   "id": "55eb0d58",
   "metadata": {
    "id": "QRcqbpLpFK5o",
    "papermill": {
     "duration": 0.022658,
     "end_time": "2024-01-27T20:29:28.611466",
     "exception": false,
     "start_time": "2024-01-27T20:29:28.588808",
     "status": "completed"
    },
    "tags": []
   },
   "source": [
    "# **Análise Exploratória de Dados de Logística: Loggi**"
   ]
  },
  {
   "cell_type": "markdown",
   "id": "593f141f",
   "metadata": {
    "id": "6-CvdKwqFPiW",
    "papermill": {
     "duration": 0.022191,
     "end_time": "2024-01-27T20:29:28.656221",
     "exception": false,
     "start_time": "2024-01-27T20:29:28.634030",
     "status": "completed"
    },
    "tags": []
   },
   "source": [
    "## 1\\. Contexto"
   ]
  },
  {
   "cell_type": "markdown",
   "id": "cf217bbd",
   "metadata": {
    "id": "XRURE1uUFXGw",
    "papermill": {
     "duration": 0.022195,
     "end_time": "2024-01-27T20:29:28.701539",
     "exception": false,
     "start_time": "2024-01-27T20:29:28.679344",
     "status": "completed"
    },
    "tags": []
   },
   "source": [
    "A eficiência logística é crucial para o sucesso de qualquer empresa que lide com entregas e transporte de mercadorias. A Loggi, uma startup inovadora na área de logística, busca constantemente aprimorar seus serviços, garantindo entregas rápidas e confiáveis. Com foco na última milha, a Loggi opera em várias cidades, incluindo Brasília, onde mantém três hubs estrategicamente localizados.\n",
    "\n",
    "Este projeto de análise exploratória de dados tem como objetivo examinar os padrões de distribuição de entregas nos hubs da Loggi em Brasília. Utilizando dados disponibilizados no repositório Loggi BUD no GitHub, iremos explorar como as entregas estão distribuídas entre os hubs e avaliar se a localização atual dos hubs está otimizada para atender à demanda de forma eficiente."
   ]
  },
  {
   "cell_type": "markdown",
   "id": "3be274af",
   "metadata": {
    "id": "QxukLHaqFnkU",
    "papermill": {
     "duration": 0.022063,
     "end_time": "2024-01-27T20:29:28.746709",
     "exception": false,
     "start_time": "2024-01-27T20:29:28.724646",
     "status": "completed"
    },
    "tags": []
   },
   "source": [
    "## 2\\. Pacotes e bibliotecas"
   ]
  },
  {
   "cell_type": "code",
   "execution_count": 1,
   "id": "48910e45",
   "metadata": {
    "execution": {
     "iopub.execute_input": "2024-01-27T20:29:28.793672Z",
     "iopub.status.busy": "2024-01-27T20:29:28.793246Z",
     "iopub.status.idle": "2024-01-27T20:29:47.989060Z",
     "shell.execute_reply": "2024-01-27T20:29:47.988021Z"
    },
    "id": "kOFl_WRSta_j",
    "outputId": "48f95986-94fd-4fa4-9324-ba4b1f969ee7",
    "papermill": {
     "duration": 19.222556,
     "end_time": "2024-01-27T20:29:47.991997",
     "exception": false,
     "start_time": "2024-01-27T20:29:28.769441",
     "status": "completed"
    },
    "tags": []
   },
   "outputs": [
    {
     "name": "stdout",
     "output_type": "stream",
     "text": [
      "Requirement already satisfied: geopandas in /opt/conda/lib/python3.10/site-packages (0.14.2)\r\n",
      "Requirement already satisfied: fiona>=1.8.21 in /opt/conda/lib/python3.10/site-packages (from geopandas) (1.9.5)\r\n",
      "Requirement already satisfied: packaging in /opt/conda/lib/python3.10/site-packages (from geopandas) (21.3)\r\n",
      "Requirement already satisfied: pandas>=1.4.0 in /opt/conda/lib/python3.10/site-packages (from geopandas) (2.0.3)\r\n",
      "Requirement already satisfied: pyproj>=3.3.0 in /opt/conda/lib/python3.10/site-packages (from geopandas) (3.6.1)\r\n",
      "Requirement already satisfied: shapely>=1.8.0 in /opt/conda/lib/python3.10/site-packages (from geopandas) (1.8.5.post1)\r\n",
      "Requirement already satisfied: attrs>=19.2.0 in /opt/conda/lib/python3.10/site-packages (from fiona>=1.8.21->geopandas) (23.1.0)\r\n",
      "Requirement already satisfied: certifi in /opt/conda/lib/python3.10/site-packages (from fiona>=1.8.21->geopandas) (2023.11.17)\r\n",
      "Requirement already satisfied: click~=8.0 in /opt/conda/lib/python3.10/site-packages (from fiona>=1.8.21->geopandas) (8.1.7)\r\n",
      "Requirement already satisfied: click-plugins>=1.0 in /opt/conda/lib/python3.10/site-packages (from fiona>=1.8.21->geopandas) (1.1.1)\r\n",
      "Requirement already satisfied: cligj>=0.5 in /opt/conda/lib/python3.10/site-packages (from fiona>=1.8.21->geopandas) (0.7.2)\r\n",
      "Requirement already satisfied: six in /opt/conda/lib/python3.10/site-packages (from fiona>=1.8.21->geopandas) (1.16.0)\r\n",
      "Requirement already satisfied: setuptools in /opt/conda/lib/python3.10/site-packages (from fiona>=1.8.21->geopandas) (68.1.2)\r\n",
      "Requirement already satisfied: python-dateutil>=2.8.2 in /opt/conda/lib/python3.10/site-packages (from pandas>=1.4.0->geopandas) (2.8.2)\r\n",
      "Requirement already satisfied: pytz>=2020.1 in /opt/conda/lib/python3.10/site-packages (from pandas>=1.4.0->geopandas) (2023.3)\r\n",
      "Requirement already satisfied: tzdata>=2022.1 in /opt/conda/lib/python3.10/site-packages (from pandas>=1.4.0->geopandas) (2023.3)\r\n",
      "Requirement already satisfied: numpy>=1.21.0 in /opt/conda/lib/python3.10/site-packages (from pandas>=1.4.0->geopandas) (1.24.3)\r\n",
      "Requirement already satisfied: pyparsing!=3.0.5,>=2.0.2 in /opt/conda/lib/python3.10/site-packages (from packaging->geopandas) (3.0.9)\r\n"
     ]
    }
   ],
   "source": [
    "!pip3 install geopandas;\n",
    "\n",
    "import pandas as pd\n",
    "import geopy\n",
    "from geopy.geocoders import Nominatim\n",
    "from geopy.extra.rate_limiter import RateLimiter\n",
    "from geopy.distance import geodesic\n",
    "import numpy as np\n",
    "import matplotlib.pyplot as plt\n",
    "import seaborn as sns\n",
    "import geopandas\n",
    "\n",
    "import json\n",
    "import os"
   ]
  },
  {
   "cell_type": "markdown",
   "id": "d6936aa4",
   "metadata": {
    "id": "irQxHW1zGkdZ",
    "papermill": {
     "duration": 0.022382,
     "end_time": "2024-01-27T20:29:48.037466",
     "exception": false,
     "start_time": "2024-01-27T20:29:48.015084",
     "status": "completed"
    },
    "tags": []
   },
   "source": [
    "## 3\\. Exploração de dados"
   ]
  },
  {
   "cell_type": "markdown",
   "id": "8783a9d9",
   "metadata": {
    "id": "gGRqpXFsa6EY",
    "papermill": {
     "duration": 0.022361,
     "end_time": "2024-01-27T20:29:48.082641",
     "exception": false,
     "start_time": "2024-01-27T20:29:48.060280",
     "status": "completed"
    },
    "tags": []
   },
   "source": [
    "Vamos começar baixando os dados brutos e lendo-os com o módulo json para transformá-los em um dicionário."
   ]
  },
  {
   "cell_type": "code",
   "execution_count": 2,
   "id": "d57003a6",
   "metadata": {
    "execution": {
     "iopub.execute_input": "2024-01-27T20:29:48.196130Z",
     "iopub.status.busy": "2024-01-27T20:29:48.195176Z",
     "iopub.status.idle": "2024-01-27T20:29:57.127864Z",
     "shell.execute_reply": "2024-01-27T20:29:57.126660Z"
    },
    "id": "1mm2FmRwtb7j",
    "outputId": "02e1dee4-4470-4b0d-dab0-014b15859e88",
    "papermill": {
     "duration": 8.960097,
     "end_time": "2024-01-27T20:29:57.130942",
     "exception": false,
     "start_time": "2024-01-27T20:29:48.170845",
     "status": "completed"
    },
    "tags": []
   },
   "outputs": [
    {
     "data": {
      "text/plain": [
       "199"
      ]
     },
     "execution_count": 2,
     "metadata": {},
     "output_type": "execute_result"
    }
   ],
   "source": [
    "!wget -q \"https://raw.githubusercontent.com/andre-marcos-perez/ebac-course-utils/main/dataset/deliveries.json\" -O deliveries.json\n",
    "\n",
    "with open('deliveries.json', mode='r', encoding='utf8') as file:\n",
    "  data = json.load(file)\n",
    "\n",
    "len(data)"
   ]
  },
  {
   "cell_type": "markdown",
   "id": "70c2954c",
   "metadata": {
    "id": "hvkysBqjb_UY",
    "papermill": {
     "duration": 0.023562,
     "end_time": "2024-01-27T20:29:57.178536",
     "exception": false,
     "start_time": "2024-01-27T20:29:57.154974",
     "status": "completed"
    },
    "tags": []
   },
   "source": [
    "Vemos que se trata de um dicionário de tamanho 199. Agora vamos utilizar o módulo pandas para ver mais detalhes."
   ]
  },
  {
   "cell_type": "code",
   "execution_count": 3,
   "id": "4476f41e",
   "metadata": {
    "execution": {
     "iopub.execute_input": "2024-01-27T20:29:57.227330Z",
     "iopub.status.busy": "2024-01-27T20:29:57.226892Z",
     "iopub.status.idle": "2024-01-27T20:29:57.625884Z",
     "shell.execute_reply": "2024-01-27T20:29:57.624695Z"
    },
    "id": "X0hNS0bWupP7",
    "outputId": "9e295b75-75f2-42a5-b310-a8655ce0ad60",
    "papermill": {
     "duration": 0.427397,
     "end_time": "2024-01-27T20:29:57.629108",
     "exception": false,
     "start_time": "2024-01-27T20:29:57.201711",
     "status": "completed"
    },
    "tags": []
   },
   "outputs": [
    {
     "data": {
      "text/html": [
       "<div>\n",
       "<style scoped>\n",
       "    .dataframe tbody tr th:only-of-type {\n",
       "        vertical-align: middle;\n",
       "    }\n",
       "\n",
       "    .dataframe tbody tr th {\n",
       "        vertical-align: top;\n",
       "    }\n",
       "\n",
       "    .dataframe thead th {\n",
       "        text-align: right;\n",
       "    }\n",
       "</style>\n",
       "<table border=\"1\" class=\"dataframe\">\n",
       "  <thead>\n",
       "    <tr style=\"text-align: right;\">\n",
       "      <th></th>\n",
       "      <th>name</th>\n",
       "      <th>region</th>\n",
       "      <th>origin</th>\n",
       "      <th>vehicle_capacity</th>\n",
       "      <th>deliveries</th>\n",
       "    </tr>\n",
       "  </thead>\n",
       "  <tbody>\n",
       "    <tr>\n",
       "      <th>0</th>\n",
       "      <td>cvrp-2-df-33</td>\n",
       "      <td>df-2</td>\n",
       "      <td>{'lng': -48.05498915846707, 'lat': -15.8381445...</td>\n",
       "      <td>180</td>\n",
       "      <td>[{'id': '313483a19d2f8d65cd5024c8d215cfbd', 'p...</td>\n",
       "    </tr>\n",
       "    <tr>\n",
       "      <th>1</th>\n",
       "      <td>cvrp-2-df-73</td>\n",
       "      <td>df-2</td>\n",
       "      <td>{'lng': -48.05498915846707, 'lat': -15.8381445...</td>\n",
       "      <td>180</td>\n",
       "      <td>[{'id': 'bf3fc630b1c29601a4caf1bdd474b85', 'po...</td>\n",
       "    </tr>\n",
       "    <tr>\n",
       "      <th>2</th>\n",
       "      <td>cvrp-2-df-20</td>\n",
       "      <td>df-2</td>\n",
       "      <td>{'lng': -48.05498915846707, 'lat': -15.8381445...</td>\n",
       "      <td>180</td>\n",
       "      <td>[{'id': 'b30f1145a2ba4e0b9ac0162b68d045c3', 'p...</td>\n",
       "    </tr>\n",
       "    <tr>\n",
       "      <th>3</th>\n",
       "      <td>cvrp-1-df-71</td>\n",
       "      <td>df-1</td>\n",
       "      <td>{'lng': -47.89366206897872, 'lat': -15.8051175...</td>\n",
       "      <td>180</td>\n",
       "      <td>[{'id': 'be3ed547394196c12c7c27c89ac74ed6', 'p...</td>\n",
       "    </tr>\n",
       "    <tr>\n",
       "      <th>4</th>\n",
       "      <td>cvrp-2-df-87</td>\n",
       "      <td>df-2</td>\n",
       "      <td>{'lng': -48.05498915846707, 'lat': -15.8381445...</td>\n",
       "      <td>180</td>\n",
       "      <td>[{'id': 'a6328fb4dc0654eb28a996a270b0f6e4', 'p...</td>\n",
       "    </tr>\n",
       "  </tbody>\n",
       "</table>\n",
       "</div>"
      ],
      "text/plain": [
       "           name region                                             origin  \\\n",
       "0  cvrp-2-df-33   df-2  {'lng': -48.05498915846707, 'lat': -15.8381445...   \n",
       "1  cvrp-2-df-73   df-2  {'lng': -48.05498915846707, 'lat': -15.8381445...   \n",
       "2  cvrp-2-df-20   df-2  {'lng': -48.05498915846707, 'lat': -15.8381445...   \n",
       "3  cvrp-1-df-71   df-1  {'lng': -47.89366206897872, 'lat': -15.8051175...   \n",
       "4  cvrp-2-df-87   df-2  {'lng': -48.05498915846707, 'lat': -15.8381445...   \n",
       "\n",
       "   vehicle_capacity                                         deliveries  \n",
       "0               180  [{'id': '313483a19d2f8d65cd5024c8d215cfbd', 'p...  \n",
       "1               180  [{'id': 'bf3fc630b1c29601a4caf1bdd474b85', 'po...  \n",
       "2               180  [{'id': 'b30f1145a2ba4e0b9ac0162b68d045c3', 'p...  \n",
       "3               180  [{'id': 'be3ed547394196c12c7c27c89ac74ed6', 'p...  \n",
       "4               180  [{'id': 'a6328fb4dc0654eb28a996a270b0f6e4', 'p...  "
      ]
     },
     "execution_count": 3,
     "metadata": {},
     "output_type": "execute_result"
    }
   ],
   "source": [
    "deliveries_df = pd.DataFrame(data)\n",
    "\n",
    "deliveries_df.head()"
   ]
  },
  {
   "cell_type": "markdown",
   "id": "aca5f6e8",
   "metadata": {
    "id": "JCnUiMdwc6Rp",
    "papermill": {
     "duration": 0.023031,
     "end_time": "2024-01-27T20:29:57.676290",
     "exception": false,
     "start_time": "2024-01-27T20:29:57.653259",
     "status": "completed"
    },
    "tags": []
   },
   "source": [
    "Agora observamos como o dado está estruturado. Precisamos quebrar os conteúdos das colunas origin e deliveries se quisermos trabalhar com eles. A estrutura de cada ítem do primeiro é de um dicionário, e do segundo é de uma lista de dicionários. Vamos lidar com a coluna origin utilizando uma operação chamada normalize."
   ]
  },
  {
   "cell_type": "code",
   "execution_count": 4,
   "id": "f8267e1f",
   "metadata": {
    "execution": {
     "iopub.execute_input": "2024-01-27T20:29:57.726271Z",
     "iopub.status.busy": "2024-01-27T20:29:57.725827Z",
     "iopub.status.idle": "2024-01-27T20:29:57.741291Z",
     "shell.execute_reply": "2024-01-27T20:29:57.740173Z"
    },
    "id": "f6-xGHOZvf1F",
    "outputId": "e41a8c2a-024f-450a-c1e3-c553adf17782",
    "papermill": {
     "duration": 0.04286,
     "end_time": "2024-01-27T20:29:57.743612",
     "exception": false,
     "start_time": "2024-01-27T20:29:57.700752",
     "status": "completed"
    },
    "tags": []
   },
   "outputs": [
    {
     "data": {
      "text/html": [
       "<div>\n",
       "<style scoped>\n",
       "    .dataframe tbody tr th:only-of-type {\n",
       "        vertical-align: middle;\n",
       "    }\n",
       "\n",
       "    .dataframe tbody tr th {\n",
       "        vertical-align: top;\n",
       "    }\n",
       "\n",
       "    .dataframe thead th {\n",
       "        text-align: right;\n",
       "    }\n",
       "</style>\n",
       "<table border=\"1\" class=\"dataframe\">\n",
       "  <thead>\n",
       "    <tr style=\"text-align: right;\">\n",
       "      <th></th>\n",
       "      <th>lng</th>\n",
       "      <th>lat</th>\n",
       "    </tr>\n",
       "  </thead>\n",
       "  <tbody>\n",
       "    <tr>\n",
       "      <th>0</th>\n",
       "      <td>-48.054989</td>\n",
       "      <td>-15.838145</td>\n",
       "    </tr>\n",
       "    <tr>\n",
       "      <th>1</th>\n",
       "      <td>-48.054989</td>\n",
       "      <td>-15.838145</td>\n",
       "    </tr>\n",
       "    <tr>\n",
       "      <th>2</th>\n",
       "      <td>-48.054989</td>\n",
       "      <td>-15.838145</td>\n",
       "    </tr>\n",
       "    <tr>\n",
       "      <th>3</th>\n",
       "      <td>-47.893662</td>\n",
       "      <td>-15.805118</td>\n",
       "    </tr>\n",
       "    <tr>\n",
       "      <th>4</th>\n",
       "      <td>-48.054989</td>\n",
       "      <td>-15.838145</td>\n",
       "    </tr>\n",
       "  </tbody>\n",
       "</table>\n",
       "</div>"
      ],
      "text/plain": [
       "         lng        lat\n",
       "0 -48.054989 -15.838145\n",
       "1 -48.054989 -15.838145\n",
       "2 -48.054989 -15.838145\n",
       "3 -47.893662 -15.805118\n",
       "4 -48.054989 -15.838145"
      ]
     },
     "execution_count": 4,
     "metadata": {},
     "output_type": "execute_result"
    }
   ],
   "source": [
    "hub_origin_df = pd.json_normalize(deliveries_df[\"origin\"])\n",
    "\n",
    "hub_origin_df.head()"
   ]
  },
  {
   "cell_type": "markdown",
   "id": "b90950b3",
   "metadata": {
    "id": "pIIBo8Jad_JI",
    "papermill": {
     "duration": 0.023307,
     "end_time": "2024-01-27T20:29:57.790805",
     "exception": false,
     "start_time": "2024-01-27T20:29:57.767498",
     "status": "completed"
    },
    "tags": []
   },
   "source": [
    "Transformamos cada dicionário em duas novas colunas, que correspondem a longitude e latitude dos hubs. Agora vamos colocá-las de volta no dataframe original. Também removeremos a antiga coluna origin, e faremos operações para reposicionar e renomear as novas colunas."
   ]
  },
  {
   "cell_type": "code",
   "execution_count": 5,
   "id": "8cde0770",
   "metadata": {
    "execution": {
     "iopub.execute_input": "2024-01-27T20:29:57.840303Z",
     "iopub.status.busy": "2024-01-27T20:29:57.839862Z",
     "iopub.status.idle": "2024-01-27T20:29:58.235540Z",
     "shell.execute_reply": "2024-01-27T20:29:58.234319Z"
    },
    "id": "FnYejc3rv3B8",
    "outputId": "d7710718-01b6-467e-abea-203f2bfc1d7c",
    "papermill": {
     "duration": 0.424003,
     "end_time": "2024-01-27T20:29:58.238225",
     "exception": false,
     "start_time": "2024-01-27T20:29:57.814222",
     "status": "completed"
    },
    "tags": []
   },
   "outputs": [
    {
     "data": {
      "text/html": [
       "<div>\n",
       "<style scoped>\n",
       "    .dataframe tbody tr th:only-of-type {\n",
       "        vertical-align: middle;\n",
       "    }\n",
       "\n",
       "    .dataframe tbody tr th {\n",
       "        vertical-align: top;\n",
       "    }\n",
       "\n",
       "    .dataframe thead th {\n",
       "        text-align: right;\n",
       "    }\n",
       "</style>\n",
       "<table border=\"1\" class=\"dataframe\">\n",
       "  <thead>\n",
       "    <tr style=\"text-align: right;\">\n",
       "      <th></th>\n",
       "      <th>name</th>\n",
       "      <th>region</th>\n",
       "      <th>hub_lng</th>\n",
       "      <th>hub_lat</th>\n",
       "      <th>vehicle_capacity</th>\n",
       "      <th>deliveries</th>\n",
       "    </tr>\n",
       "  </thead>\n",
       "  <tbody>\n",
       "    <tr>\n",
       "      <th>0</th>\n",
       "      <td>cvrp-2-df-33</td>\n",
       "      <td>df-2</td>\n",
       "      <td>-48.054989</td>\n",
       "      <td>-15.838145</td>\n",
       "      <td>180</td>\n",
       "      <td>[{'id': '313483a19d2f8d65cd5024c8d215cfbd', 'p...</td>\n",
       "    </tr>\n",
       "    <tr>\n",
       "      <th>1</th>\n",
       "      <td>cvrp-2-df-73</td>\n",
       "      <td>df-2</td>\n",
       "      <td>-48.054989</td>\n",
       "      <td>-15.838145</td>\n",
       "      <td>180</td>\n",
       "      <td>[{'id': 'bf3fc630b1c29601a4caf1bdd474b85', 'po...</td>\n",
       "    </tr>\n",
       "    <tr>\n",
       "      <th>2</th>\n",
       "      <td>cvrp-2-df-20</td>\n",
       "      <td>df-2</td>\n",
       "      <td>-48.054989</td>\n",
       "      <td>-15.838145</td>\n",
       "      <td>180</td>\n",
       "      <td>[{'id': 'b30f1145a2ba4e0b9ac0162b68d045c3', 'p...</td>\n",
       "    </tr>\n",
       "    <tr>\n",
       "      <th>3</th>\n",
       "      <td>cvrp-1-df-71</td>\n",
       "      <td>df-1</td>\n",
       "      <td>-47.893662</td>\n",
       "      <td>-15.805118</td>\n",
       "      <td>180</td>\n",
       "      <td>[{'id': 'be3ed547394196c12c7c27c89ac74ed6', 'p...</td>\n",
       "    </tr>\n",
       "    <tr>\n",
       "      <th>4</th>\n",
       "      <td>cvrp-2-df-87</td>\n",
       "      <td>df-2</td>\n",
       "      <td>-48.054989</td>\n",
       "      <td>-15.838145</td>\n",
       "      <td>180</td>\n",
       "      <td>[{'id': 'a6328fb4dc0654eb28a996a270b0f6e4', 'p...</td>\n",
       "    </tr>\n",
       "  </tbody>\n",
       "</table>\n",
       "</div>"
      ],
      "text/plain": [
       "           name region    hub_lng    hub_lat  vehicle_capacity  \\\n",
       "0  cvrp-2-df-33   df-2 -48.054989 -15.838145               180   \n",
       "1  cvrp-2-df-73   df-2 -48.054989 -15.838145               180   \n",
       "2  cvrp-2-df-20   df-2 -48.054989 -15.838145               180   \n",
       "3  cvrp-1-df-71   df-1 -47.893662 -15.805118               180   \n",
       "4  cvrp-2-df-87   df-2 -48.054989 -15.838145               180   \n",
       "\n",
       "                                          deliveries  \n",
       "0  [{'id': '313483a19d2f8d65cd5024c8d215cfbd', 'p...  \n",
       "1  [{'id': 'bf3fc630b1c29601a4caf1bdd474b85', 'po...  \n",
       "2  [{'id': 'b30f1145a2ba4e0b9ac0162b68d045c3', 'p...  \n",
       "3  [{'id': 'be3ed547394196c12c7c27c89ac74ed6', 'p...  \n",
       "4  [{'id': 'a6328fb4dc0654eb28a996a270b0f6e4', 'p...  "
      ]
     },
     "execution_count": 5,
     "metadata": {},
     "output_type": "execute_result"
    }
   ],
   "source": [
    "deliveries_df = pd.merge(left=deliveries_df, right=hub_origin_df, how='inner', left_index=True, right_index=True)\n",
    "deliveries_df = deliveries_df.drop(\"origin\", axis=1)\n",
    "deliveries_df = deliveries_df[[\"name\", \"region\", \"lng\", \"lat\", \"vehicle_capacity\", \"deliveries\"]]\n",
    "deliveries_df.rename(columns={\"lng\": \"hub_lng\", \"lat\": \"hub_lat\"}, inplace=True)\n",
    "\n",
    "deliveries_df.head()"
   ]
  },
  {
   "cell_type": "markdown",
   "id": "62b8ca19",
   "metadata": {
    "id": "K5y6RmV_ezWL",
    "papermill": {
     "duration": 0.024402,
     "end_time": "2024-01-27T20:29:58.286530",
     "exception": false,
     "start_time": "2024-01-27T20:29:58.262128",
     "status": "completed"
    },
    "tags": []
   },
   "source": [
    "Agora vamos quebrar a coluna deliveries. Dessa vez utilizaremos a operação explode para quebrar as séries."
   ]
  },
  {
   "cell_type": "code",
   "execution_count": 6,
   "id": "14ce2552",
   "metadata": {
    "execution": {
     "iopub.execute_input": "2024-01-27T20:29:58.338690Z",
     "iopub.status.busy": "2024-01-27T20:29:58.338287Z",
     "iopub.status.idle": "2024-01-27T20:29:58.460835Z",
     "shell.execute_reply": "2024-01-27T20:29:58.459400Z"
    },
    "id": "kPBTESL2xs-c",
    "outputId": "60e77172-255c-417e-bf7f-6e71a8eb5da3",
    "papermill": {
     "duration": 0.15158,
     "end_time": "2024-01-27T20:29:58.463712",
     "exception": false,
     "start_time": "2024-01-27T20:29:58.312132",
     "status": "completed"
    },
    "tags": []
   },
   "outputs": [
    {
     "data": {
      "text/html": [
       "<div>\n",
       "<style scoped>\n",
       "    .dataframe tbody tr th:only-of-type {\n",
       "        vertical-align: middle;\n",
       "    }\n",
       "\n",
       "    .dataframe tbody tr th {\n",
       "        vertical-align: top;\n",
       "    }\n",
       "\n",
       "    .dataframe thead th {\n",
       "        text-align: right;\n",
       "    }\n",
       "</style>\n",
       "<table border=\"1\" class=\"dataframe\">\n",
       "  <thead>\n",
       "    <tr style=\"text-align: right;\">\n",
       "      <th></th>\n",
       "      <th>deliveries</th>\n",
       "    </tr>\n",
       "  </thead>\n",
       "  <tbody>\n",
       "    <tr>\n",
       "      <th>0</th>\n",
       "      <td>{'id': '313483a19d2f8d65cd5024c8d215cfbd', 'po...</td>\n",
       "    </tr>\n",
       "    <tr>\n",
       "      <th>0</th>\n",
       "      <td>{'id': '320c94b17aa685c939b3f3244c3099de', 'po...</td>\n",
       "    </tr>\n",
       "    <tr>\n",
       "      <th>0</th>\n",
       "      <td>{'id': '3663b42f4b8decb33059febaba46d5c8', 'po...</td>\n",
       "    </tr>\n",
       "    <tr>\n",
       "      <th>0</th>\n",
       "      <td>{'id': 'e11ab58363c38d6abc90d5fba87b7d7', 'poi...</td>\n",
       "    </tr>\n",
       "    <tr>\n",
       "      <th>0</th>\n",
       "      <td>{'id': '54cb45b7bbbd4e34e7150900f92d7f4b', 'po...</td>\n",
       "    </tr>\n",
       "  </tbody>\n",
       "</table>\n",
       "</div>"
      ],
      "text/plain": [
       "                                          deliveries\n",
       "0  {'id': '313483a19d2f8d65cd5024c8d215cfbd', 'po...\n",
       "0  {'id': '320c94b17aa685c939b3f3244c3099de', 'po...\n",
       "0  {'id': '3663b42f4b8decb33059febaba46d5c8', 'po...\n",
       "0  {'id': 'e11ab58363c38d6abc90d5fba87b7d7', 'poi...\n",
       "0  {'id': '54cb45b7bbbd4e34e7150900f92d7f4b', 'po..."
      ]
     },
     "execution_count": 6,
     "metadata": {},
     "output_type": "execute_result"
    }
   ],
   "source": [
    "deliveries_exploded_df = deliveries_df[[\"deliveries\"]].explode(\"deliveries\")\n",
    "\n",
    "deliveries_exploded_df.head()"
   ]
  },
  {
   "cell_type": "markdown",
   "id": "9c1c83f4",
   "metadata": {
    "id": "kTW0uOFqf3l4",
    "papermill": {
     "duration": 0.024043,
     "end_time": "2024-01-27T20:29:58.512813",
     "exception": false,
     "start_time": "2024-01-27T20:29:58.488770",
     "status": "completed"
    },
    "tags": []
   },
   "source": [
    "Agora temos vários dicionários que correspondem aos índices originais. Vamos normalizar essas estruturas, mas pegando apenas os dados que nos interessam. Não usaremos o mesmo método de antes pois ele não preserva os índices.\n",
    "\n",
    "Criaremos novos dataframes a partir de cada linha do dataframe explodido. Sobre eles aplicaremos uma função lambda para extrair a coluna de interesse. Renomearemos cada um deles e, por fim, os concatenaremos lado a lado num único dataframe:"
   ]
  },
  {
   "cell_type": "code",
   "execution_count": 7,
   "id": "2928f3ed",
   "metadata": {
    "execution": {
     "iopub.execute_input": "2024-01-27T20:29:58.563391Z",
     "iopub.status.busy": "2024-01-27T20:29:58.563007Z",
     "iopub.status.idle": "2024-01-27T20:29:59.681575Z",
     "shell.execute_reply": "2024-01-27T20:29:59.680289Z"
    },
    "id": "-cLpobhXyCus",
    "outputId": "ecade65e-a515-444a-c559-47ff23fb3d18",
    "papermill": {
     "duration": 1.146741,
     "end_time": "2024-01-27T20:29:59.684121",
     "exception": false,
     "start_time": "2024-01-27T20:29:58.537380",
     "status": "completed"
    },
    "tags": []
   },
   "outputs": [
    {
     "data": {
      "text/html": [
       "<div>\n",
       "<style scoped>\n",
       "    .dataframe tbody tr th:only-of-type {\n",
       "        vertical-align: middle;\n",
       "    }\n",
       "\n",
       "    .dataframe tbody tr th {\n",
       "        vertical-align: top;\n",
       "    }\n",
       "\n",
       "    .dataframe thead th {\n",
       "        text-align: right;\n",
       "    }\n",
       "</style>\n",
       "<table border=\"1\" class=\"dataframe\">\n",
       "  <thead>\n",
       "    <tr style=\"text-align: right;\">\n",
       "      <th></th>\n",
       "      <th>delivery_size</th>\n",
       "      <th>delivery_lng</th>\n",
       "      <th>delivery_lat</th>\n",
       "    </tr>\n",
       "  </thead>\n",
       "  <tbody>\n",
       "    <tr>\n",
       "      <th>0</th>\n",
       "      <td>9</td>\n",
       "      <td>-48.116189</td>\n",
       "      <td>-15.848929</td>\n",
       "    </tr>\n",
       "    <tr>\n",
       "      <th>0</th>\n",
       "      <td>2</td>\n",
       "      <td>-48.118195</td>\n",
       "      <td>-15.850772</td>\n",
       "    </tr>\n",
       "    <tr>\n",
       "      <th>0</th>\n",
       "      <td>1</td>\n",
       "      <td>-48.112483</td>\n",
       "      <td>-15.847871</td>\n",
       "    </tr>\n",
       "    <tr>\n",
       "      <th>0</th>\n",
       "      <td>2</td>\n",
       "      <td>-48.118023</td>\n",
       "      <td>-15.846471</td>\n",
       "    </tr>\n",
       "    <tr>\n",
       "      <th>0</th>\n",
       "      <td>7</td>\n",
       "      <td>-48.114898</td>\n",
       "      <td>-15.858055</td>\n",
       "    </tr>\n",
       "  </tbody>\n",
       "</table>\n",
       "</div>"
      ],
      "text/plain": [
       "   delivery_size  delivery_lng  delivery_lat\n",
       "0              9    -48.116189    -15.848929\n",
       "0              2    -48.118195    -15.850772\n",
       "0              1    -48.112483    -15.847871\n",
       "0              2    -48.118023    -15.846471\n",
       "0              7    -48.114898    -15.858055"
      ]
     },
     "execution_count": 7,
     "metadata": {},
     "output_type": "execute_result"
    }
   ],
   "source": [
    "deliveries_normalized_df = pd.concat([\n",
    "    pd.DataFrame(deliveries_exploded_df[\"deliveries\"].apply(lambda record: record[\"size\"])).rename(columns={\"deliveries\": \"delivery_size\"}),\n",
    "    pd.DataFrame(deliveries_exploded_df[\"deliveries\"].apply(lambda record: record[\"point\"][\"lng\"])).rename(columns={\"deliveries\": \"delivery_lng\"}),\n",
    "    pd.DataFrame(deliveries_exploded_df[\"deliveries\"].apply(lambda record: record[\"point\"][\"lat\"])).rename(columns={\"deliveries\": \"delivery_lat\"}),\n",
    "], axis=1)\n",
    "\n",
    "deliveries_normalized_df.head()"
   ]
  },
  {
   "cell_type": "markdown",
   "id": "b44bc8c4",
   "metadata": {
    "id": "4h2G4-c1jO5S",
    "papermill": {
     "duration": 0.023892,
     "end_time": "2024-01-27T20:29:59.732268",
     "exception": false,
     "start_time": "2024-01-27T20:29:59.708376",
     "status": "completed"
    },
    "tags": []
   },
   "source": [
    "Agora, de maneira análoga à que fizemos anteriormente, vamos uní-lo ao dataframe original e remover a coluna deliveries. Agora também podemos resetar os índices."
   ]
  },
  {
   "cell_type": "code",
   "execution_count": 8,
   "id": "9aac1c72",
   "metadata": {
    "execution": {
     "iopub.execute_input": "2024-01-27T20:29:59.783138Z",
     "iopub.status.busy": "2024-01-27T20:29:59.782764Z",
     "iopub.status.idle": "2024-01-27T20:29:59.888720Z",
     "shell.execute_reply": "2024-01-27T20:29:59.887481Z"
    },
    "id": "DuX7m0s_y70U",
    "outputId": "7946924a-a89d-4e62-c692-fdedd5cf6f0f",
    "papermill": {
     "duration": 0.134333,
     "end_time": "2024-01-27T20:29:59.891094",
     "exception": false,
     "start_time": "2024-01-27T20:29:59.756761",
     "status": "completed"
    },
    "tags": []
   },
   "outputs": [
    {
     "data": {
      "text/html": [
       "<div>\n",
       "<style scoped>\n",
       "    .dataframe tbody tr th:only-of-type {\n",
       "        vertical-align: middle;\n",
       "    }\n",
       "\n",
       "    .dataframe tbody tr th {\n",
       "        vertical-align: top;\n",
       "    }\n",
       "\n",
       "    .dataframe thead th {\n",
       "        text-align: right;\n",
       "    }\n",
       "</style>\n",
       "<table border=\"1\" class=\"dataframe\">\n",
       "  <thead>\n",
       "    <tr style=\"text-align: right;\">\n",
       "      <th></th>\n",
       "      <th>name</th>\n",
       "      <th>region</th>\n",
       "      <th>hub_lng</th>\n",
       "      <th>hub_lat</th>\n",
       "      <th>vehicle_capacity</th>\n",
       "      <th>delivery_size</th>\n",
       "      <th>delivery_lng</th>\n",
       "      <th>delivery_lat</th>\n",
       "    </tr>\n",
       "  </thead>\n",
       "  <tbody>\n",
       "    <tr>\n",
       "      <th>0</th>\n",
       "      <td>cvrp-2-df-33</td>\n",
       "      <td>df-2</td>\n",
       "      <td>-48.054989</td>\n",
       "      <td>-15.838145</td>\n",
       "      <td>180</td>\n",
       "      <td>9</td>\n",
       "      <td>-48.116189</td>\n",
       "      <td>-15.848929</td>\n",
       "    </tr>\n",
       "    <tr>\n",
       "      <th>1</th>\n",
       "      <td>cvrp-2-df-33</td>\n",
       "      <td>df-2</td>\n",
       "      <td>-48.054989</td>\n",
       "      <td>-15.838145</td>\n",
       "      <td>180</td>\n",
       "      <td>2</td>\n",
       "      <td>-48.118195</td>\n",
       "      <td>-15.850772</td>\n",
       "    </tr>\n",
       "    <tr>\n",
       "      <th>2</th>\n",
       "      <td>cvrp-2-df-33</td>\n",
       "      <td>df-2</td>\n",
       "      <td>-48.054989</td>\n",
       "      <td>-15.838145</td>\n",
       "      <td>180</td>\n",
       "      <td>1</td>\n",
       "      <td>-48.112483</td>\n",
       "      <td>-15.847871</td>\n",
       "    </tr>\n",
       "    <tr>\n",
       "      <th>3</th>\n",
       "      <td>cvrp-2-df-33</td>\n",
       "      <td>df-2</td>\n",
       "      <td>-48.054989</td>\n",
       "      <td>-15.838145</td>\n",
       "      <td>180</td>\n",
       "      <td>2</td>\n",
       "      <td>-48.118023</td>\n",
       "      <td>-15.846471</td>\n",
       "    </tr>\n",
       "    <tr>\n",
       "      <th>4</th>\n",
       "      <td>cvrp-2-df-33</td>\n",
       "      <td>df-2</td>\n",
       "      <td>-48.054989</td>\n",
       "      <td>-15.838145</td>\n",
       "      <td>180</td>\n",
       "      <td>7</td>\n",
       "      <td>-48.114898</td>\n",
       "      <td>-15.858055</td>\n",
       "    </tr>\n",
       "  </tbody>\n",
       "</table>\n",
       "</div>"
      ],
      "text/plain": [
       "           name region    hub_lng    hub_lat  vehicle_capacity  delivery_size  \\\n",
       "0  cvrp-2-df-33   df-2 -48.054989 -15.838145               180              9   \n",
       "1  cvrp-2-df-33   df-2 -48.054989 -15.838145               180              2   \n",
       "2  cvrp-2-df-33   df-2 -48.054989 -15.838145               180              1   \n",
       "3  cvrp-2-df-33   df-2 -48.054989 -15.838145               180              2   \n",
       "4  cvrp-2-df-33   df-2 -48.054989 -15.838145               180              7   \n",
       "\n",
       "   delivery_lng  delivery_lat  \n",
       "0    -48.116189    -15.848929  \n",
       "1    -48.118195    -15.850772  \n",
       "2    -48.112483    -15.847871  \n",
       "3    -48.118023    -15.846471  \n",
       "4    -48.114898    -15.858055  "
      ]
     },
     "execution_count": 8,
     "metadata": {},
     "output_type": "execute_result"
    }
   ],
   "source": [
    "deliveries_df = deliveries_df.drop(\"deliveries\", axis=1)\n",
    "deliveries_df = pd.merge(left=deliveries_df, right=deliveries_normalized_df, how='right', left_index=True, right_index=True)\n",
    "deliveries_df.reset_index(inplace=True, drop=True)\n",
    "\n",
    "deliveries_df.head()"
   ]
  },
  {
   "cell_type": "code",
   "execution_count": 9,
   "id": "4f6776c3",
   "metadata": {
    "execution": {
     "iopub.execute_input": "2024-01-27T20:29:59.942546Z",
     "iopub.status.busy": "2024-01-27T20:29:59.942150Z",
     "iopub.status.idle": "2024-01-27T20:29:59.947946Z",
     "shell.execute_reply": "2024-01-27T20:29:59.947085Z"
    },
    "id": "lrL5LV5qzgB8",
    "outputId": "18340424-19fb-49aa-9b93-aeb0e98710ea",
    "papermill": {
     "duration": 0.034688,
     "end_time": "2024-01-27T20:29:59.950399",
     "exception": false,
     "start_time": "2024-01-27T20:29:59.915711",
     "status": "completed"
    },
    "tags": []
   },
   "outputs": [
    {
     "data": {
      "text/plain": [
       "636149"
      ]
     },
     "execution_count": 9,
     "metadata": {},
     "output_type": "execute_result"
    }
   ],
   "source": [
    "len(deliveries_df)"
   ]
  },
  {
   "cell_type": "markdown",
   "id": "bdcf4c36",
   "metadata": {
    "id": "IZyzjJE2jsny",
    "papermill": {
     "duration": 0.02506,
     "end_time": "2024-01-27T20:30:00.001570",
     "exception": false,
     "start_time": "2024-01-27T20:29:59.976510",
     "status": "completed"
    },
    "tags": []
   },
   "source": [
    "Temos o nosso dataframe. Nota-se que seu tamanho agora é bem maior do que os 199 que observamos inicialmente, o que se deve à imensa quantidade de dados aninhados nas colunas que normalizamos. Vamos analisar a sua estrutura."
   ]
  },
  {
   "cell_type": "code",
   "execution_count": 10,
   "id": "adad124a",
   "metadata": {
    "execution": {
     "iopub.execute_input": "2024-01-27T20:30:00.054805Z",
     "iopub.status.busy": "2024-01-27T20:30:00.054368Z",
     "iopub.status.idle": "2024-01-27T20:30:00.062303Z",
     "shell.execute_reply": "2024-01-27T20:30:00.061032Z"
    },
    "id": "YCWSLOK9GqgG",
    "outputId": "077eb8a4-6bec-4c94-932b-b4491361839b",
    "papermill": {
     "duration": 0.038308,
     "end_time": "2024-01-27T20:30:00.064997",
     "exception": false,
     "start_time": "2024-01-27T20:30:00.026689",
     "status": "completed"
    },
    "tags": []
   },
   "outputs": [
    {
     "data": {
      "text/plain": [
       "(636149, 8)"
      ]
     },
     "execution_count": 10,
     "metadata": {},
     "output_type": "execute_result"
    }
   ],
   "source": [
    "deliveries_df.shape"
   ]
  },
  {
   "cell_type": "code",
   "execution_count": 11,
   "id": "189b793b",
   "metadata": {
    "execution": {
     "iopub.execute_input": "2024-01-27T20:30:00.118460Z",
     "iopub.status.busy": "2024-01-27T20:30:00.118032Z",
     "iopub.status.idle": "2024-01-27T20:30:00.127364Z",
     "shell.execute_reply": "2024-01-27T20:30:00.126033Z"
    },
    "id": "3ntZgO-gGz9-",
    "outputId": "29dbf365-9f98-411f-8280-8738b604aa5d",
    "papermill": {
     "duration": 0.039803,
     "end_time": "2024-01-27T20:30:00.130159",
     "exception": false,
     "start_time": "2024-01-27T20:30:00.090356",
     "status": "completed"
    },
    "tags": []
   },
   "outputs": [
    {
     "data": {
      "text/plain": [
       "Index(['name', 'region', 'hub_lng', 'hub_lat', 'vehicle_capacity',\n",
       "       'delivery_size', 'delivery_lng', 'delivery_lat'],\n",
       "      dtype='object')"
      ]
     },
     "execution_count": 11,
     "metadata": {},
     "output_type": "execute_result"
    }
   ],
   "source": [
    "deliveries_df.columns"
   ]
  },
  {
   "cell_type": "code",
   "execution_count": 12,
   "id": "9579e3af",
   "metadata": {
    "execution": {
     "iopub.execute_input": "2024-01-27T20:30:00.186651Z",
     "iopub.status.busy": "2024-01-27T20:30:00.186132Z",
     "iopub.status.idle": "2024-01-27T20:30:00.194298Z",
     "shell.execute_reply": "2024-01-27T20:30:00.192929Z"
    },
    "id": "tKHfuO2UG3SO",
    "outputId": "e1c08ee5-2c8f-4653-fdc8-7f51e8dcfd63",
    "papermill": {
     "duration": 0.038415,
     "end_time": "2024-01-27T20:30:00.197258",
     "exception": false,
     "start_time": "2024-01-27T20:30:00.158843",
     "status": "completed"
    },
    "tags": []
   },
   "outputs": [
    {
     "data": {
      "text/plain": [
       "RangeIndex(start=0, stop=636149, step=1)"
      ]
     },
     "execution_count": 12,
     "metadata": {},
     "output_type": "execute_result"
    }
   ],
   "source": [
    "deliveries_df.index"
   ]
  },
  {
   "cell_type": "code",
   "execution_count": 13,
   "id": "a0f732cd",
   "metadata": {
    "execution": {
     "iopub.execute_input": "2024-01-27T20:30:00.251568Z",
     "iopub.status.busy": "2024-01-27T20:30:00.251118Z",
     "iopub.status.idle": "2024-01-27T20:30:00.422963Z",
     "shell.execute_reply": "2024-01-27T20:30:00.420969Z"
    },
    "id": "JVBlbfJoG5qN",
    "outputId": "ba1a5fe3-b15a-49f2-8acd-80f02d9bd0c4",
    "papermill": {
     "duration": 0.201911,
     "end_time": "2024-01-27T20:30:00.425673",
     "exception": false,
     "start_time": "2024-01-27T20:30:00.223762",
     "status": "completed"
    },
    "tags": []
   },
   "outputs": [
    {
     "name": "stdout",
     "output_type": "stream",
     "text": [
      "<class 'pandas.core.frame.DataFrame'>\n",
      "RangeIndex: 636149 entries, 0 to 636148\n",
      "Data columns (total 8 columns):\n",
      " #   Column            Non-Null Count   Dtype  \n",
      "---  ------            --------------   -----  \n",
      " 0   name              636149 non-null  object \n",
      " 1   region            636149 non-null  object \n",
      " 2   hub_lng           636149 non-null  float64\n",
      " 3   hub_lat           636149 non-null  float64\n",
      " 4   vehicle_capacity  636149 non-null  int64  \n",
      " 5   delivery_size     636149 non-null  int64  \n",
      " 6   delivery_lng      636149 non-null  float64\n",
      " 7   delivery_lat      636149 non-null  float64\n",
      "dtypes: float64(4), int64(2), object(2)\n",
      "memory usage: 38.8+ MB\n"
     ]
    }
   ],
   "source": [
    "deliveries_df.info()"
   ]
  },
  {
   "cell_type": "markdown",
   "id": "a22cc0a5",
   "metadata": {
    "id": "-7Eo5TkVHhsv",
    "papermill": {
     "duration": 0.025218,
     "end_time": "2024-01-27T20:30:00.476450",
     "exception": false,
     "start_time": "2024-01-27T20:30:00.451232",
     "status": "completed"
    },
    "tags": []
   },
   "source": [
    "Temos uma visão global sobre o tamanho, estrutura e que não temos nenhum dado nulo. Agora vamos ver o schema. Primeiro os tipos:"
   ]
  },
  {
   "cell_type": "code",
   "execution_count": 14,
   "id": "b0e18614",
   "metadata": {
    "execution": {
     "iopub.execute_input": "2024-01-27T20:30:00.529264Z",
     "iopub.status.busy": "2024-01-27T20:30:00.528875Z",
     "iopub.status.idle": "2024-01-27T20:30:00.538443Z",
     "shell.execute_reply": "2024-01-27T20:30:00.536924Z"
    },
    "id": "BqK48zk_0D2s",
    "outputId": "46317514-8632-48bd-ab31-5ed95480ae0c",
    "papermill": {
     "duration": 0.03918,
     "end_time": "2024-01-27T20:30:00.541175",
     "exception": false,
     "start_time": "2024-01-27T20:30:00.501995",
     "status": "completed"
    },
    "tags": []
   },
   "outputs": [
    {
     "data": {
      "text/plain": [
       "name                 object\n",
       "region               object\n",
       "hub_lng             float64\n",
       "hub_lat             float64\n",
       "vehicle_capacity      int64\n",
       "delivery_size         int64\n",
       "delivery_lng        float64\n",
       "delivery_lat        float64\n",
       "dtype: object"
      ]
     },
     "execution_count": 14,
     "metadata": {},
     "output_type": "execute_result"
    }
   ],
   "source": [
    "deliveries_df.dtypes"
   ]
  },
  {
   "cell_type": "markdown",
   "id": "edb5b39c",
   "metadata": {
    "id": "vlQ6rnWpH7Eu",
    "papermill": {
     "duration": 0.025398,
     "end_time": "2024-01-27T20:30:00.592401",
     "exception": false,
     "start_time": "2024-01-27T20:30:00.567003",
     "status": "completed"
    },
    "tags": []
   },
   "source": [
    "Atributos categóricos:"
   ]
  },
  {
   "cell_type": "code",
   "execution_count": 15,
   "id": "08a86be6",
   "metadata": {
    "execution": {
     "iopub.execute_input": "2024-01-27T20:30:00.649006Z",
     "iopub.status.busy": "2024-01-27T20:30:00.647817Z",
     "iopub.status.idle": "2024-01-27T20:30:01.004482Z",
     "shell.execute_reply": "2024-01-27T20:30:01.003065Z"
    },
    "id": "1y6_jRUz0Jwb",
    "outputId": "07518f31-814f-4966-8f00-3ee950f21501",
    "papermill": {
     "duration": 0.388405,
     "end_time": "2024-01-27T20:30:01.007557",
     "exception": false,
     "start_time": "2024-01-27T20:30:00.619152",
     "status": "completed"
    },
    "tags": []
   },
   "outputs": [
    {
     "data": {
      "text/html": [
       "<div>\n",
       "<style scoped>\n",
       "    .dataframe tbody tr th:only-of-type {\n",
       "        vertical-align: middle;\n",
       "    }\n",
       "\n",
       "    .dataframe tbody tr th {\n",
       "        vertical-align: top;\n",
       "    }\n",
       "\n",
       "    .dataframe thead th {\n",
       "        text-align: right;\n",
       "    }\n",
       "</style>\n",
       "<table border=\"1\" class=\"dataframe\">\n",
       "  <thead>\n",
       "    <tr style=\"text-align: right;\">\n",
       "      <th></th>\n",
       "      <th>count</th>\n",
       "      <th>unique</th>\n",
       "      <th>top</th>\n",
       "      <th>freq</th>\n",
       "    </tr>\n",
       "  </thead>\n",
       "  <tbody>\n",
       "    <tr>\n",
       "      <th>name</th>\n",
       "      <td>636149</td>\n",
       "      <td>199</td>\n",
       "      <td>cvrp-1-df-87</td>\n",
       "      <td>5636</td>\n",
       "    </tr>\n",
       "    <tr>\n",
       "      <th>region</th>\n",
       "      <td>636149</td>\n",
       "      <td>3</td>\n",
       "      <td>df-1</td>\n",
       "      <td>304708</td>\n",
       "    </tr>\n",
       "  </tbody>\n",
       "</table>\n",
       "</div>"
      ],
      "text/plain": [
       "         count unique           top    freq\n",
       "name    636149    199  cvrp-1-df-87    5636\n",
       "region  636149      3          df-1  304708"
      ]
     },
     "execution_count": 15,
     "metadata": {},
     "output_type": "execute_result"
    }
   ],
   "source": [
    "deliveries_df.select_dtypes(\"object\").describe().transpose()"
   ]
  },
  {
   "cell_type": "markdown",
   "id": "583132a7",
   "metadata": {
    "id": "2MQJZTDrIAIG",
    "papermill": {
     "duration": 0.025792,
     "end_time": "2024-01-27T20:30:01.059446",
     "exception": false,
     "start_time": "2024-01-27T20:30:01.033654",
     "status": "completed"
    },
    "tags": []
   },
   "source": [
    "Atributos numéricos:"
   ]
  },
  {
   "cell_type": "code",
   "execution_count": 16,
   "id": "aaef1f00",
   "metadata": {
    "execution": {
     "iopub.execute_input": "2024-01-27T20:30:01.126544Z",
     "iopub.status.busy": "2024-01-27T20:30:01.125227Z",
     "iopub.status.idle": "2024-01-27T20:30:01.222099Z",
     "shell.execute_reply": "2024-01-27T20:30:01.220803Z"
    },
    "id": "4gsJDDot0pSF",
    "outputId": "2223f1be-a014-4f16-80c7-add0724b5770",
    "papermill": {
     "duration": 0.13623,
     "end_time": "2024-01-27T20:30:01.225309",
     "exception": false,
     "start_time": "2024-01-27T20:30:01.089079",
     "status": "completed"
    },
    "tags": []
   },
   "outputs": [
    {
     "data": {
      "text/html": [
       "<div>\n",
       "<style scoped>\n",
       "    .dataframe tbody tr th:only-of-type {\n",
       "        vertical-align: middle;\n",
       "    }\n",
       "\n",
       "    .dataframe tbody tr th {\n",
       "        vertical-align: top;\n",
       "    }\n",
       "\n",
       "    .dataframe thead th {\n",
       "        text-align: right;\n",
       "    }\n",
       "</style>\n",
       "<table border=\"1\" class=\"dataframe\">\n",
       "  <thead>\n",
       "    <tr style=\"text-align: right;\">\n",
       "      <th></th>\n",
       "      <th>count</th>\n",
       "      <th>mean</th>\n",
       "      <th>std</th>\n",
       "      <th>min</th>\n",
       "      <th>25%</th>\n",
       "      <th>50%</th>\n",
       "      <th>75%</th>\n",
       "      <th>max</th>\n",
       "    </tr>\n",
       "  </thead>\n",
       "  <tbody>\n",
       "    <tr>\n",
       "      <th>vehicle_capacity</th>\n",
       "      <td>636149.0</td>\n",
       "      <td>180.000000</td>\n",
       "      <td>0.000000</td>\n",
       "      <td>180.0</td>\n",
       "      <td>180.0</td>\n",
       "      <td>180.0</td>\n",
       "      <td>180.0</td>\n",
       "      <td>180.0</td>\n",
       "    </tr>\n",
       "    <tr>\n",
       "      <th>delivery_size</th>\n",
       "      <td>636149.0</td>\n",
       "      <td>5.512111</td>\n",
       "      <td>2.874557</td>\n",
       "      <td>1.0</td>\n",
       "      <td>3.0</td>\n",
       "      <td>6.0</td>\n",
       "      <td>8.0</td>\n",
       "      <td>10.0</td>\n",
       "    </tr>\n",
       "  </tbody>\n",
       "</table>\n",
       "</div>"
      ],
      "text/plain": [
       "                     count        mean       std    min    25%    50%    75%  \\\n",
       "vehicle_capacity  636149.0  180.000000  0.000000  180.0  180.0  180.0  180.0   \n",
       "delivery_size     636149.0    5.512111  2.874557    1.0    3.0    6.0    8.0   \n",
       "\n",
       "                    max  \n",
       "vehicle_capacity  180.0  \n",
       "delivery_size      10.0  "
      ]
     },
     "execution_count": 16,
     "metadata": {},
     "output_type": "execute_result"
    }
   ],
   "source": [
    "deliveries_df.drop([\"name\", \"region\"], axis=1).select_dtypes(\"int64\").describe().transpose()"
   ]
  },
  {
   "cell_type": "markdown",
   "id": "63b01f7c",
   "metadata": {
    "id": "WWzumlOCIvu3",
    "papermill": {
     "duration": 0.027563,
     "end_time": "2024-01-27T20:30:01.279153",
     "exception": false,
     "start_time": "2024-01-27T20:30:01.251590",
     "status": "completed"
    },
    "tags": []
   },
   "source": [
    "E agora verificaremos que não há dados faltantes:"
   ]
  },
  {
   "cell_type": "code",
   "execution_count": 17,
   "id": "555e7fe4",
   "metadata": {
    "execution": {
     "iopub.execute_input": "2024-01-27T20:30:01.337283Z",
     "iopub.status.busy": "2024-01-27T20:30:01.336873Z",
     "iopub.status.idle": "2024-01-27T20:30:01.483226Z",
     "shell.execute_reply": "2024-01-27T20:30:01.482165Z"
    },
    "id": "wj2lCVt51YZM",
    "outputId": "08dbbc8e-0962-4cd0-9492-5766f344c97d",
    "papermill": {
     "duration": 0.179549,
     "end_time": "2024-01-27T20:30:01.485816",
     "exception": false,
     "start_time": "2024-01-27T20:30:01.306267",
     "status": "completed"
    },
    "tags": []
   },
   "outputs": [
    {
     "data": {
      "text/plain": [
       "name                False\n",
       "region              False\n",
       "hub_lng             False\n",
       "hub_lat             False\n",
       "vehicle_capacity    False\n",
       "delivery_size       False\n",
       "delivery_lng        False\n",
       "delivery_lat        False\n",
       "dtype: bool"
      ]
     },
     "execution_count": 17,
     "metadata": {},
     "output_type": "execute_result"
    }
   ],
   "source": [
    "deliveries_df.isna().any()"
   ]
  },
  {
   "cell_type": "markdown",
   "id": "aa290243",
   "metadata": {
    "id": "98hexQTyJS9I",
    "papermill": {
     "duration": 0.026678,
     "end_time": "2024-01-27T20:30:01.538868",
     "exception": false,
     "start_time": "2024-01-27T20:30:01.512190",
     "status": "completed"
    },
    "tags": []
   },
   "source": [
    "## 4\\. Manipulação"
   ]
  },
  {
   "cell_type": "markdown",
   "id": "86f5d70b",
   "metadata": {
    "id": "STibLxguI_qn",
    "papermill": {
     "duration": 0.026527,
     "end_time": "2024-01-27T20:30:01.591746",
     "exception": false,
     "start_time": "2024-01-27T20:30:01.565219",
     "status": "completed"
    },
    "tags": []
   },
   "source": [
    "Agora vamos enriquecer o dataframe. Vamos utilizar algumas operações para obter o nome das regiões às quais as coordenadas correspondem. Iniciaremos com as coordenadas dos hubs."
   ]
  },
  {
   "cell_type": "code",
   "execution_count": 18,
   "id": "c328ddbc",
   "metadata": {
    "execution": {
     "iopub.execute_input": "2024-01-27T20:30:01.649185Z",
     "iopub.status.busy": "2024-01-27T20:30:01.648523Z",
     "iopub.status.idle": "2024-01-27T20:30:01.761013Z",
     "shell.execute_reply": "2024-01-27T20:30:01.760126Z"
    },
    "id": "YFUdtX4wtcpL",
    "outputId": "d62298c4-dd94-4730-c041-9a33b59c08f5",
    "papermill": {
     "duration": 0.143459,
     "end_time": "2024-01-27T20:30:01.763404",
     "exception": false,
     "start_time": "2024-01-27T20:30:01.619945",
     "status": "completed"
    },
    "tags": []
   },
   "outputs": [
    {
     "data": {
      "text/html": [
       "<div>\n",
       "<style scoped>\n",
       "    .dataframe tbody tr th:only-of-type {\n",
       "        vertical-align: middle;\n",
       "    }\n",
       "\n",
       "    .dataframe tbody tr th {\n",
       "        vertical-align: top;\n",
       "    }\n",
       "\n",
       "    .dataframe thead th {\n",
       "        text-align: right;\n",
       "    }\n",
       "</style>\n",
       "<table border=\"1\" class=\"dataframe\">\n",
       "  <thead>\n",
       "    <tr style=\"text-align: right;\">\n",
       "      <th></th>\n",
       "      <th>region</th>\n",
       "      <th>hub_lng</th>\n",
       "      <th>hub_lat</th>\n",
       "    </tr>\n",
       "  </thead>\n",
       "  <tbody>\n",
       "    <tr>\n",
       "      <th>0</th>\n",
       "      <td>df-0</td>\n",
       "      <td>-47.802665</td>\n",
       "      <td>-15.657014</td>\n",
       "    </tr>\n",
       "    <tr>\n",
       "      <th>1</th>\n",
       "      <td>df-1</td>\n",
       "      <td>-47.893662</td>\n",
       "      <td>-15.805118</td>\n",
       "    </tr>\n",
       "    <tr>\n",
       "      <th>2</th>\n",
       "      <td>df-2</td>\n",
       "      <td>-48.054989</td>\n",
       "      <td>-15.838145</td>\n",
       "    </tr>\n",
       "  </tbody>\n",
       "</table>\n",
       "</div>"
      ],
      "text/plain": [
       "  region    hub_lng    hub_lat\n",
       "0   df-0 -47.802665 -15.657014\n",
       "1   df-1 -47.893662 -15.805118\n",
       "2   df-2 -48.054989 -15.838145"
      ]
     },
     "execution_count": 18,
     "metadata": {},
     "output_type": "execute_result"
    }
   ],
   "source": [
    "hub_df = deliveries_df[[\"region\", \"hub_lng\", \"hub_lat\"]]\n",
    "hub_df = hub_df.drop_duplicates().sort_values(by=\"region\").reset_index(drop=True)\n",
    "\n",
    "hub_df.head()"
   ]
  },
  {
   "cell_type": "markdown",
   "id": "edc4796d",
   "metadata": {
    "id": "ukLz5OyIKaJQ",
    "papermill": {
     "duration": 0.028192,
     "end_time": "2024-01-27T20:30:01.819229",
     "exception": false,
     "start_time": "2024-01-27T20:30:01.791037",
     "status": "completed"
    },
    "tags": []
   },
   "source": [
    "Removemos as duplicatas e ficamos com apenas 3 regiões únicas. Agora vamos utilizar o serviço Nominatim to projeto OpenStreetMap para fazer a geolocalização reversa gratuitamente. As restrições do projeto nos limitam a uma operação por segundo, mas não será problema para tão poucas coordenadas."
   ]
  },
  {
   "cell_type": "code",
   "execution_count": 19,
   "id": "824d3273",
   "metadata": {
    "execution": {
     "iopub.execute_input": "2024-01-27T20:30:01.876267Z",
     "iopub.status.busy": "2024-01-27T20:30:01.875625Z",
     "iopub.status.idle": "2024-01-27T20:30:05.210974Z",
     "shell.execute_reply": "2024-01-27T20:30:05.209720Z"
    },
    "id": "P4VCwebz3Jve",
    "outputId": "6288d049-578a-4241-e971-f64d2001ff41",
    "papermill": {
     "duration": 3.367348,
     "end_time": "2024-01-27T20:30:05.213658",
     "exception": false,
     "start_time": "2024-01-27T20:30:01.846310",
     "status": "completed"
    },
    "tags": []
   },
   "outputs": [
    {
     "data": {
      "text/html": [
       "<div>\n",
       "<style scoped>\n",
       "    .dataframe tbody tr th:only-of-type {\n",
       "        vertical-align: middle;\n",
       "    }\n",
       "\n",
       "    .dataframe tbody tr th {\n",
       "        vertical-align: top;\n",
       "    }\n",
       "\n",
       "    .dataframe thead th {\n",
       "        text-align: right;\n",
       "    }\n",
       "</style>\n",
       "<table border=\"1\" class=\"dataframe\">\n",
       "  <thead>\n",
       "    <tr style=\"text-align: right;\">\n",
       "      <th></th>\n",
       "      <th>region</th>\n",
       "      <th>hub_lng</th>\n",
       "      <th>hub_lat</th>\n",
       "      <th>coordinates</th>\n",
       "      <th>geodata</th>\n",
       "    </tr>\n",
       "  </thead>\n",
       "  <tbody>\n",
       "    <tr>\n",
       "      <th>0</th>\n",
       "      <td>df-0</td>\n",
       "      <td>-47.802665</td>\n",
       "      <td>-15.657014</td>\n",
       "      <td>-15.657013854445248, -47.802664728268745</td>\n",
       "      <td>(Rua 7, Quadra 2, Sobradinho, Região Geográfic...</td>\n",
       "    </tr>\n",
       "    <tr>\n",
       "      <th>1</th>\n",
       "      <td>df-1</td>\n",
       "      <td>-47.893662</td>\n",
       "      <td>-15.805118</td>\n",
       "      <td>-15.80511751066334, -47.89366206897872</td>\n",
       "      <td>(SQS 303, Asa Sul, Brasília, Plano Piloto, Reg...</td>\n",
       "    </tr>\n",
       "    <tr>\n",
       "      <th>2</th>\n",
       "      <td>df-2</td>\n",
       "      <td>-48.054989</td>\n",
       "      <td>-15.838145</td>\n",
       "      <td>-15.83814451122274, -48.05498915846707</td>\n",
       "      <td>(Armazém do Bolo, lote 4/8, CSB 4/5, Taguating...</td>\n",
       "    </tr>\n",
       "  </tbody>\n",
       "</table>\n",
       "</div>"
      ],
      "text/plain": [
       "  region    hub_lng    hub_lat                               coordinates  \\\n",
       "0   df-0 -47.802665 -15.657014  -15.657013854445248, -47.802664728268745   \n",
       "1   df-1 -47.893662 -15.805118    -15.80511751066334, -47.89366206897872   \n",
       "2   df-2 -48.054989 -15.838145    -15.83814451122274, -48.05498915846707   \n",
       "\n",
       "                                             geodata  \n",
       "0  (Rua 7, Quadra 2, Sobradinho, Região Geográfic...  \n",
       "1  (SQS 303, Asa Sul, Brasília, Plano Piloto, Reg...  \n",
       "2  (Armazém do Bolo, lote 4/8, CSB 4/5, Taguating...  "
      ]
     },
     "execution_count": 19,
     "metadata": {},
     "output_type": "execute_result"
    }
   ],
   "source": [
    "geolocator = Nominatim(user_agent=\"ebac_geocoder\")\n",
    "geocoder = RateLimiter(geolocator.reverse, min_delay_seconds=1)\n",
    "\n",
    "hub_df[\"coordinates\"] = hub_df[\"hub_lat\"].astype(str) + \", \" + hub_df[\"hub_lng\"].astype(str)\n",
    "hub_df[\"geodata\"] = hub_df[\"coordinates\"].apply(geocoder)\n",
    "\n",
    "hub_df.head()"
   ]
  },
  {
   "cell_type": "markdown",
   "id": "deb779f1",
   "metadata": {
    "id": "uCb0u1HNLfJ-",
    "papermill": {
     "duration": 0.026577,
     "end_time": "2024-01-27T20:30:05.268304",
     "exception": false,
     "start_time": "2024-01-27T20:30:05.241727",
     "status": "completed"
    },
    "tags": []
   },
   "source": [
    "Temos os dados na coluna geodata. Vamos normalizá-la."
   ]
  },
  {
   "cell_type": "code",
   "execution_count": 20,
   "id": "ecb52899",
   "metadata": {
    "execution": {
     "iopub.execute_input": "2024-01-27T20:30:05.326502Z",
     "iopub.status.busy": "2024-01-27T20:30:05.325542Z",
     "iopub.status.idle": "2024-01-27T20:30:05.355240Z",
     "shell.execute_reply": "2024-01-27T20:30:05.354314Z"
    },
    "id": "vZ_QD6Kp34T1",
    "outputId": "abea605f-ec0a-426d-fc1a-d0ae0febb089",
    "papermill": {
     "duration": 0.062972,
     "end_time": "2024-01-27T20:30:05.357952",
     "exception": false,
     "start_time": "2024-01-27T20:30:05.294980",
     "status": "completed"
    },
    "tags": []
   },
   "outputs": [
    {
     "data": {
      "text/html": [
       "<div>\n",
       "<style scoped>\n",
       "    .dataframe tbody tr th:only-of-type {\n",
       "        vertical-align: middle;\n",
       "    }\n",
       "\n",
       "    .dataframe tbody tr th {\n",
       "        vertical-align: top;\n",
       "    }\n",
       "\n",
       "    .dataframe thead th {\n",
       "        text-align: right;\n",
       "    }\n",
       "</style>\n",
       "<table border=\"1\" class=\"dataframe\">\n",
       "  <thead>\n",
       "    <tr style=\"text-align: right;\">\n",
       "      <th></th>\n",
       "      <th>place_id</th>\n",
       "      <th>licence</th>\n",
       "      <th>osm_type</th>\n",
       "      <th>osm_id</th>\n",
       "      <th>lat</th>\n",
       "      <th>lon</th>\n",
       "      <th>class</th>\n",
       "      <th>type</th>\n",
       "      <th>place_rank</th>\n",
       "      <th>importance</th>\n",
       "      <th>...</th>\n",
       "      <th>address.state</th>\n",
       "      <th>address.ISO3166-2-lvl4</th>\n",
       "      <th>address.region</th>\n",
       "      <th>address.postcode</th>\n",
       "      <th>address.country</th>\n",
       "      <th>address.country_code</th>\n",
       "      <th>address.neighbourhood</th>\n",
       "      <th>address.city</th>\n",
       "      <th>address.shop</th>\n",
       "      <th>address.house_number</th>\n",
       "    </tr>\n",
       "  </thead>\n",
       "  <tbody>\n",
       "    <tr>\n",
       "      <th>0</th>\n",
       "      <td>46082661</td>\n",
       "      <td>Data © OpenStreetMap contributors, ODbL 1.0. h...</td>\n",
       "      <td>way</td>\n",
       "      <td>240210480</td>\n",
       "      <td>-15.656916027876347</td>\n",
       "      <td>-47.80264463632131</td>\n",
       "      <td>highway</td>\n",
       "      <td>secondary</td>\n",
       "      <td>26</td>\n",
       "      <td>0.10001</td>\n",
       "      <td>...</td>\n",
       "      <td>Distrito Federal</td>\n",
       "      <td>BR-DF</td>\n",
       "      <td>Região Centro-Oeste</td>\n",
       "      <td>73015-202</td>\n",
       "      <td>Brasil</td>\n",
       "      <td>br</td>\n",
       "      <td>NaN</td>\n",
       "      <td>NaN</td>\n",
       "      <td>NaN</td>\n",
       "      <td>NaN</td>\n",
       "    </tr>\n",
       "    <tr>\n",
       "      <th>1</th>\n",
       "      <td>46676578</td>\n",
       "      <td>Data © OpenStreetMap contributors, ODbL 1.0. h...</td>\n",
       "      <td>way</td>\n",
       "      <td>66353368</td>\n",
       "      <td>-15.805172757199022</td>\n",
       "      <td>-47.893723539491205</td>\n",
       "      <td>highway</td>\n",
       "      <td>residential</td>\n",
       "      <td>26</td>\n",
       "      <td>0.10001</td>\n",
       "      <td>...</td>\n",
       "      <td>Distrito Federal</td>\n",
       "      <td>BR-DF</td>\n",
       "      <td>Região Centro-Oeste</td>\n",
       "      <td>70342-010</td>\n",
       "      <td>Brasil</td>\n",
       "      <td>br</td>\n",
       "      <td>SQS 303</td>\n",
       "      <td>Brasília</td>\n",
       "      <td>NaN</td>\n",
       "      <td>NaN</td>\n",
       "    </tr>\n",
       "    <tr>\n",
       "      <th>2</th>\n",
       "      <td>43508444</td>\n",
       "      <td>Data © OpenStreetMap contributors, ODbL 1.0. h...</td>\n",
       "      <td>node</td>\n",
       "      <td>6249717596</td>\n",
       "      <td>-15.8384371</td>\n",
       "      <td>-48.0552917</td>\n",
       "      <td>shop</td>\n",
       "      <td>pastry</td>\n",
       "      <td>30</td>\n",
       "      <td>0.00001</td>\n",
       "      <td>...</td>\n",
       "      <td>Distrito Federal</td>\n",
       "      <td>BR-DF</td>\n",
       "      <td>Região Centro-Oeste</td>\n",
       "      <td>72015-030</td>\n",
       "      <td>Brasil</td>\n",
       "      <td>br</td>\n",
       "      <td>NaN</td>\n",
       "      <td>Taguatinga</td>\n",
       "      <td>Armazém do Bolo</td>\n",
       "      <td>lote 4/8</td>\n",
       "    </tr>\n",
       "  </tbody>\n",
       "</table>\n",
       "<p>3 rows × 31 columns</p>\n",
       "</div>"
      ],
      "text/plain": [
       "   place_id                                            licence osm_type  \\\n",
       "0  46082661  Data © OpenStreetMap contributors, ODbL 1.0. h...      way   \n",
       "1  46676578  Data © OpenStreetMap contributors, ODbL 1.0. h...      way   \n",
       "2  43508444  Data © OpenStreetMap contributors, ODbL 1.0. h...     node   \n",
       "\n",
       "       osm_id                  lat                  lon    class         type  \\\n",
       "0   240210480  -15.656916027876347   -47.80264463632131  highway    secondary   \n",
       "1    66353368  -15.805172757199022  -47.893723539491205  highway  residential   \n",
       "2  6249717596          -15.8384371          -48.0552917     shop       pastry   \n",
       "\n",
       "   place_rank  importance  ...     address.state address.ISO3166-2-lvl4  \\\n",
       "0          26     0.10001  ...  Distrito Federal                  BR-DF   \n",
       "1          26     0.10001  ...  Distrito Federal                  BR-DF   \n",
       "2          30     0.00001  ...  Distrito Federal                  BR-DF   \n",
       "\n",
       "        address.region address.postcode address.country address.country_code  \\\n",
       "0  Região Centro-Oeste        73015-202          Brasil                   br   \n",
       "1  Região Centro-Oeste        70342-010          Brasil                   br   \n",
       "2  Região Centro-Oeste        72015-030          Brasil                   br   \n",
       "\n",
       "  address.neighbourhood address.city     address.shop address.house_number  \n",
       "0                   NaN          NaN              NaN                  NaN  \n",
       "1               SQS 303     Brasília              NaN                  NaN  \n",
       "2                   NaN   Taguatinga  Armazém do Bolo             lote 4/8  \n",
       "\n",
       "[3 rows x 31 columns]"
      ]
     },
     "execution_count": 20,
     "metadata": {},
     "output_type": "execute_result"
    }
   ],
   "source": [
    "hub_geodata_df = pd.json_normalize(hub_df[\"geodata\"].apply(lambda data: data.raw))\n",
    "\n",
    "hub_geodata_df.head()"
   ]
  },
  {
   "cell_type": "markdown",
   "id": "f8b546b5",
   "metadata": {
    "id": "gUtnY0jfMoyJ",
    "papermill": {
     "duration": 0.031182,
     "end_time": "2024-01-27T20:30:05.418366",
     "exception": false,
     "start_time": "2024-01-27T20:30:05.387184",
     "status": "completed"
    },
    "tags": []
   },
   "source": [
    "Agora vamos pegar os dados que nos interessam, que são \"town\", \"suburb\" e \"city\". Vamos também renomear e excluir o que não nos serve, como valores nulos e a coluna de origem."
   ]
  },
  {
   "cell_type": "code",
   "execution_count": 21,
   "id": "4a70ff5c",
   "metadata": {
    "execution": {
     "iopub.execute_input": "2024-01-27T20:30:05.475503Z",
     "iopub.status.busy": "2024-01-27T20:30:05.475067Z",
     "iopub.status.idle": "2024-01-27T20:30:05.492027Z",
     "shell.execute_reply": "2024-01-27T20:30:05.491161Z"
    },
    "id": "okk2GZKK4PwU",
    "outputId": "7c4f059d-d6e4-4a04-cc3d-87eba765ee2c",
    "papermill": {
     "duration": 0.047887,
     "end_time": "2024-01-27T20:30:05.494579",
     "exception": false,
     "start_time": "2024-01-27T20:30:05.446692",
     "status": "completed"
    },
    "tags": []
   },
   "outputs": [
    {
     "data": {
      "text/html": [
       "<div>\n",
       "<style scoped>\n",
       "    .dataframe tbody tr th:only-of-type {\n",
       "        vertical-align: middle;\n",
       "    }\n",
       "\n",
       "    .dataframe tbody tr th {\n",
       "        vertical-align: top;\n",
       "    }\n",
       "\n",
       "    .dataframe thead th {\n",
       "        text-align: right;\n",
       "    }\n",
       "</style>\n",
       "<table border=\"1\" class=\"dataframe\">\n",
       "  <thead>\n",
       "    <tr style=\"text-align: right;\">\n",
       "      <th></th>\n",
       "      <th>hub_suburb</th>\n",
       "      <th>hub_city</th>\n",
       "    </tr>\n",
       "  </thead>\n",
       "  <tbody>\n",
       "    <tr>\n",
       "      <th>0</th>\n",
       "      <td>Sobradinho</td>\n",
       "      <td>Sobradinho</td>\n",
       "    </tr>\n",
       "    <tr>\n",
       "      <th>1</th>\n",
       "      <td>Asa Sul</td>\n",
       "      <td>Brasília</td>\n",
       "    </tr>\n",
       "    <tr>\n",
       "      <th>2</th>\n",
       "      <td>Taguatinga</td>\n",
       "      <td>Taguatinga</td>\n",
       "    </tr>\n",
       "  </tbody>\n",
       "</table>\n",
       "</div>"
      ],
      "text/plain": [
       "   hub_suburb    hub_city\n",
       "0  Sobradinho  Sobradinho\n",
       "1     Asa Sul    Brasília\n",
       "2  Taguatinga  Taguatinga"
      ]
     },
     "execution_count": 21,
     "metadata": {},
     "output_type": "execute_result"
    }
   ],
   "source": [
    "hub_geodata_df = hub_geodata_df[[\"address.town\", \"address.suburb\", \"address.city\"]]\n",
    "hub_geodata_df.rename(columns={\"address.town\": \"hub_town\", \"address.suburb\": \"hub_suburb\", \"address.city\": \"hub_city\"}, inplace=True)\n",
    "hub_geodata_df[\"hub_city\"] = np.where(hub_geodata_df[\"hub_city\"].notna(), hub_geodata_df[\"hub_city\"], hub_geodata_df[\"hub_town\"])\n",
    "hub_geodata_df[\"hub_suburb\"] = np.where(hub_geodata_df[\"hub_suburb\"].notna(), hub_geodata_df[\"hub_suburb\"], hub_geodata_df[\"hub_city\"])\n",
    "hub_geodata_df = hub_geodata_df.drop(\"hub_town\", axis=1)\n",
    "\n",
    "hub_geodata_df.head()"
   ]
  },
  {
   "cell_type": "markdown",
   "id": "fd17b541",
   "metadata": {
    "id": "3k2zwKocNr7x",
    "papermill": {
     "duration": 0.027069,
     "end_time": "2024-01-27T20:30:05.549807",
     "exception": false,
     "start_time": "2024-01-27T20:30:05.522738",
     "status": "completed"
    },
    "tags": []
   },
   "source": [
    "Vamos juntar a este dataframe a coluna de região."
   ]
  },
  {
   "cell_type": "code",
   "execution_count": 22,
   "id": "5e4be8ac",
   "metadata": {
    "execution": {
     "iopub.execute_input": "2024-01-27T20:30:05.607799Z",
     "iopub.status.busy": "2024-01-27T20:30:05.607103Z",
     "iopub.status.idle": "2024-01-27T20:30:05.621495Z",
     "shell.execute_reply": "2024-01-27T20:30:05.620254Z"
    },
    "id": "Tfa9iNfJ53WV",
    "outputId": "a5be27ea-e0a6-4ad0-f961-9910aa9c9ca8",
    "papermill": {
     "duration": 0.046648,
     "end_time": "2024-01-27T20:30:05.624380",
     "exception": false,
     "start_time": "2024-01-27T20:30:05.577732",
     "status": "completed"
    },
    "tags": []
   },
   "outputs": [
    {
     "data": {
      "text/html": [
       "<div>\n",
       "<style scoped>\n",
       "    .dataframe tbody tr th:only-of-type {\n",
       "        vertical-align: middle;\n",
       "    }\n",
       "\n",
       "    .dataframe tbody tr th {\n",
       "        vertical-align: top;\n",
       "    }\n",
       "\n",
       "    .dataframe thead th {\n",
       "        text-align: right;\n",
       "    }\n",
       "</style>\n",
       "<table border=\"1\" class=\"dataframe\">\n",
       "  <thead>\n",
       "    <tr style=\"text-align: right;\">\n",
       "      <th></th>\n",
       "      <th>region</th>\n",
       "      <th>hub_suburb</th>\n",
       "      <th>hub_city</th>\n",
       "    </tr>\n",
       "  </thead>\n",
       "  <tbody>\n",
       "    <tr>\n",
       "      <th>0</th>\n",
       "      <td>df-0</td>\n",
       "      <td>Sobradinho</td>\n",
       "      <td>Sobradinho</td>\n",
       "    </tr>\n",
       "    <tr>\n",
       "      <th>1</th>\n",
       "      <td>df-1</td>\n",
       "      <td>Asa Sul</td>\n",
       "      <td>Brasília</td>\n",
       "    </tr>\n",
       "    <tr>\n",
       "      <th>2</th>\n",
       "      <td>df-2</td>\n",
       "      <td>Taguatinga</td>\n",
       "      <td>Taguatinga</td>\n",
       "    </tr>\n",
       "  </tbody>\n",
       "</table>\n",
       "</div>"
      ],
      "text/plain": [
       "  region  hub_suburb    hub_city\n",
       "0   df-0  Sobradinho  Sobradinho\n",
       "1   df-1     Asa Sul    Brasília\n",
       "2   df-2  Taguatinga  Taguatinga"
      ]
     },
     "execution_count": 22,
     "metadata": {},
     "output_type": "execute_result"
    }
   ],
   "source": [
    "hub_df = pd.merge(left=hub_df, right=hub_geodata_df, left_index=True, right_index=True)\n",
    "hub_df = hub_df[[\"region\", \"hub_suburb\", \"hub_city\"]]\n",
    "\n",
    "hub_df.head()"
   ]
  },
  {
   "cell_type": "markdown",
   "id": "90bb0cc2",
   "metadata": {
    "id": "aiLyUpy2N65Q",
    "papermill": {
     "duration": 0.028315,
     "end_time": "2024-01-27T20:30:05.682588",
     "exception": false,
     "start_time": "2024-01-27T20:30:05.654273",
     "status": "completed"
    },
    "tags": []
   },
   "source": [
    "Agora vamos juntar este dataframe ao dataframe principal utilizando a coluna de região como índice, e então rearranjar."
   ]
  },
  {
   "cell_type": "code",
   "execution_count": 23,
   "id": "a6599901",
   "metadata": {
    "execution": {
     "iopub.execute_input": "2024-01-27T20:30:05.743035Z",
     "iopub.status.busy": "2024-01-27T20:30:05.742584Z",
     "iopub.status.idle": "2024-01-27T20:30:06.061619Z",
     "shell.execute_reply": "2024-01-27T20:30:06.060471Z"
    },
    "id": "w2K9pIOr6RPU",
    "outputId": "963dbc65-8b72-48e5-8a27-966672ac9cc4",
    "papermill": {
     "duration": 0.35208,
     "end_time": "2024-01-27T20:30:06.064170",
     "exception": false,
     "start_time": "2024-01-27T20:30:05.712090",
     "status": "completed"
    },
    "tags": []
   },
   "outputs": [
    {
     "data": {
      "text/html": [
       "<div>\n",
       "<style scoped>\n",
       "    .dataframe tbody tr th:only-of-type {\n",
       "        vertical-align: middle;\n",
       "    }\n",
       "\n",
       "    .dataframe tbody tr th {\n",
       "        vertical-align: top;\n",
       "    }\n",
       "\n",
       "    .dataframe thead th {\n",
       "        text-align: right;\n",
       "    }\n",
       "</style>\n",
       "<table border=\"1\" class=\"dataframe\">\n",
       "  <thead>\n",
       "    <tr style=\"text-align: right;\">\n",
       "      <th></th>\n",
       "      <th>name</th>\n",
       "      <th>region</th>\n",
       "      <th>hub_lng</th>\n",
       "      <th>hub_lat</th>\n",
       "      <th>hub_city</th>\n",
       "      <th>hub_suburb</th>\n",
       "      <th>vehicle_capacity</th>\n",
       "      <th>delivery_size</th>\n",
       "      <th>delivery_lng</th>\n",
       "      <th>delivery_lat</th>\n",
       "    </tr>\n",
       "  </thead>\n",
       "  <tbody>\n",
       "    <tr>\n",
       "      <th>0</th>\n",
       "      <td>cvrp-2-df-33</td>\n",
       "      <td>df-2</td>\n",
       "      <td>-48.054989</td>\n",
       "      <td>-15.838145</td>\n",
       "      <td>Taguatinga</td>\n",
       "      <td>Taguatinga</td>\n",
       "      <td>180</td>\n",
       "      <td>9</td>\n",
       "      <td>-48.116189</td>\n",
       "      <td>-15.848929</td>\n",
       "    </tr>\n",
       "    <tr>\n",
       "      <th>1</th>\n",
       "      <td>cvrp-2-df-33</td>\n",
       "      <td>df-2</td>\n",
       "      <td>-48.054989</td>\n",
       "      <td>-15.838145</td>\n",
       "      <td>Taguatinga</td>\n",
       "      <td>Taguatinga</td>\n",
       "      <td>180</td>\n",
       "      <td>2</td>\n",
       "      <td>-48.118195</td>\n",
       "      <td>-15.850772</td>\n",
       "    </tr>\n",
       "    <tr>\n",
       "      <th>2</th>\n",
       "      <td>cvrp-2-df-33</td>\n",
       "      <td>df-2</td>\n",
       "      <td>-48.054989</td>\n",
       "      <td>-15.838145</td>\n",
       "      <td>Taguatinga</td>\n",
       "      <td>Taguatinga</td>\n",
       "      <td>180</td>\n",
       "      <td>1</td>\n",
       "      <td>-48.112483</td>\n",
       "      <td>-15.847871</td>\n",
       "    </tr>\n",
       "    <tr>\n",
       "      <th>3</th>\n",
       "      <td>cvrp-2-df-33</td>\n",
       "      <td>df-2</td>\n",
       "      <td>-48.054989</td>\n",
       "      <td>-15.838145</td>\n",
       "      <td>Taguatinga</td>\n",
       "      <td>Taguatinga</td>\n",
       "      <td>180</td>\n",
       "      <td>2</td>\n",
       "      <td>-48.118023</td>\n",
       "      <td>-15.846471</td>\n",
       "    </tr>\n",
       "    <tr>\n",
       "      <th>4</th>\n",
       "      <td>cvrp-2-df-33</td>\n",
       "      <td>df-2</td>\n",
       "      <td>-48.054989</td>\n",
       "      <td>-15.838145</td>\n",
       "      <td>Taguatinga</td>\n",
       "      <td>Taguatinga</td>\n",
       "      <td>180</td>\n",
       "      <td>7</td>\n",
       "      <td>-48.114898</td>\n",
       "      <td>-15.858055</td>\n",
       "    </tr>\n",
       "  </tbody>\n",
       "</table>\n",
       "</div>"
      ],
      "text/plain": [
       "           name region    hub_lng    hub_lat    hub_city  hub_suburb  \\\n",
       "0  cvrp-2-df-33   df-2 -48.054989 -15.838145  Taguatinga  Taguatinga   \n",
       "1  cvrp-2-df-33   df-2 -48.054989 -15.838145  Taguatinga  Taguatinga   \n",
       "2  cvrp-2-df-33   df-2 -48.054989 -15.838145  Taguatinga  Taguatinga   \n",
       "3  cvrp-2-df-33   df-2 -48.054989 -15.838145  Taguatinga  Taguatinga   \n",
       "4  cvrp-2-df-33   df-2 -48.054989 -15.838145  Taguatinga  Taguatinga   \n",
       "\n",
       "   vehicle_capacity  delivery_size  delivery_lng  delivery_lat  \n",
       "0               180              9    -48.116189    -15.848929  \n",
       "1               180              2    -48.118195    -15.850772  \n",
       "2               180              1    -48.112483    -15.847871  \n",
       "3               180              2    -48.118023    -15.846471  \n",
       "4               180              7    -48.114898    -15.858055  "
      ]
     },
     "execution_count": 23,
     "metadata": {},
     "output_type": "execute_result"
    }
   ],
   "source": [
    "deliveries_df = pd.merge(left=deliveries_df, right=hub_df, how=\"inner\", on=\"region\")\n",
    "deliveries_df = deliveries_df[[\"name\", \"region\", \"hub_lng\", \"hub_lat\", \"hub_city\", \"hub_suburb\", \"vehicle_capacity\", \"delivery_size\", \"delivery_lng\", \"delivery_lat\"]]\n",
    "\n",
    "deliveries_df.head()"
   ]
  },
  {
   "cell_type": "markdown",
   "id": "8e175277",
   "metadata": {
    "id": "GqWa0G82OaVi",
    "papermill": {
     "duration": 0.027678,
     "end_time": "2024-01-27T20:30:06.120481",
     "exception": false,
     "start_time": "2024-01-27T20:30:06.092803",
     "status": "completed"
    },
    "tags": []
   },
   "source": [
    "Etapa concluída. Agora queremos fazer a geolocalização reversa da entrega, mas é até aqui que podemos ir com a limitação do Nominatim de uma operação por segundo. Mas com a instalação local é possível utilizá-lo sem restrição. Vamos baixar o arquivo processado localmente:"
   ]
  },
  {
   "cell_type": "code",
   "execution_count": 24,
   "id": "37efc748",
   "metadata": {
    "execution": {
     "iopub.execute_input": "2024-01-27T20:30:06.180493Z",
     "iopub.status.busy": "2024-01-27T20:30:06.180091Z",
     "iopub.status.idle": "2024-01-27T20:30:10.974244Z",
     "shell.execute_reply": "2024-01-27T20:30:10.973003Z"
    },
    "id": "3GC6VNKQsTwR",
    "outputId": "d42d65bc-fc0b-4701-8482-2ec1f5ddcb8a",
    "papermill": {
     "duration": 4.827902,
     "end_time": "2024-01-27T20:30:10.976993",
     "exception": false,
     "start_time": "2024-01-27T20:30:06.149091",
     "status": "completed"
    },
    "tags": []
   },
   "outputs": [
    {
     "data": {
      "text/html": [
       "<div>\n",
       "<style scoped>\n",
       "    .dataframe tbody tr th:only-of-type {\n",
       "        vertical-align: middle;\n",
       "    }\n",
       "\n",
       "    .dataframe tbody tr th {\n",
       "        vertical-align: top;\n",
       "    }\n",
       "\n",
       "    .dataframe thead th {\n",
       "        text-align: right;\n",
       "    }\n",
       "</style>\n",
       "<table border=\"1\" class=\"dataframe\">\n",
       "  <thead>\n",
       "    <tr style=\"text-align: right;\">\n",
       "      <th></th>\n",
       "      <th>delivery_lng</th>\n",
       "      <th>delivery_lat</th>\n",
       "      <th>delivery_city</th>\n",
       "      <th>delivery_suburb</th>\n",
       "    </tr>\n",
       "  </thead>\n",
       "  <tbody>\n",
       "    <tr>\n",
       "      <th>0</th>\n",
       "      <td>-48.116189</td>\n",
       "      <td>-15.848929</td>\n",
       "      <td>Ceilândia</td>\n",
       "      <td>P Sul</td>\n",
       "    </tr>\n",
       "    <tr>\n",
       "      <th>1</th>\n",
       "      <td>-48.118195</td>\n",
       "      <td>-15.850772</td>\n",
       "      <td>Ceilândia</td>\n",
       "      <td>P Sul</td>\n",
       "    </tr>\n",
       "    <tr>\n",
       "      <th>2</th>\n",
       "      <td>-48.112483</td>\n",
       "      <td>-15.847871</td>\n",
       "      <td>Ceilândia</td>\n",
       "      <td>P Sul</td>\n",
       "    </tr>\n",
       "    <tr>\n",
       "      <th>3</th>\n",
       "      <td>-48.118023</td>\n",
       "      <td>-15.846471</td>\n",
       "      <td>Ceilândia</td>\n",
       "      <td>P Sul</td>\n",
       "    </tr>\n",
       "    <tr>\n",
       "      <th>4</th>\n",
       "      <td>-48.114898</td>\n",
       "      <td>-15.858055</td>\n",
       "      <td>Sol Nascente/Pôr do Sol</td>\n",
       "      <td>Sol Nascente/Pôr do Sol</td>\n",
       "    </tr>\n",
       "  </tbody>\n",
       "</table>\n",
       "</div>"
      ],
      "text/plain": [
       "   delivery_lng  delivery_lat            delivery_city  \\\n",
       "0    -48.116189    -15.848929                Ceilândia   \n",
       "1    -48.118195    -15.850772                Ceilândia   \n",
       "2    -48.112483    -15.847871                Ceilândia   \n",
       "3    -48.118023    -15.846471                Ceilândia   \n",
       "4    -48.114898    -15.858055  Sol Nascente/Pôr do Sol   \n",
       "\n",
       "           delivery_suburb  \n",
       "0                    P Sul  \n",
       "1                    P Sul  \n",
       "2                    P Sul  \n",
       "3                    P Sul  \n",
       "4  Sol Nascente/Pôr do Sol  "
      ]
     },
     "execution_count": 24,
     "metadata": {},
     "output_type": "execute_result"
    }
   ],
   "source": [
    "!wget -q \"https://raw.githubusercontent.com/andre-marcos-perez/ebac-course-utils/main/dataset/deliveries-geodata.csv\" -O deliveries-geodata.csv\n",
    "\n",
    "deliveries_geodata_df = pd.read_csv(\"deliveries-geodata.csv\")\n",
    "\n",
    "deliveries_geodata_df.head()"
   ]
  },
  {
   "cell_type": "markdown",
   "id": "e4730b57",
   "metadata": {
    "id": "h-_yuJEpP-S5",
    "papermill": {
     "duration": 0.028211,
     "end_time": "2024-01-27T20:30:11.036774",
     "exception": false,
     "start_time": "2024-01-27T20:30:11.008563",
     "status": "completed"
    },
    "tags": []
   },
   "source": [
    "Agora vamos uní-lo ao dataframe principal para obtermos o nosso dataframe enriquecido com geolocalização reversa:"
   ]
  },
  {
   "cell_type": "code",
   "execution_count": 25,
   "id": "f94814d3",
   "metadata": {
    "execution": {
     "iopub.execute_input": "2024-01-27T20:30:11.103123Z",
     "iopub.status.busy": "2024-01-27T20:30:11.102735Z",
     "iopub.status.idle": "2024-01-27T20:30:11.197233Z",
     "shell.execute_reply": "2024-01-27T20:30:11.195924Z"
    },
    "id": "6e8acwKmsvAw",
    "outputId": "476d8eca-5ffb-42d2-b805-1524dea211f1",
    "papermill": {
     "duration": 0.13505,
     "end_time": "2024-01-27T20:30:11.199888",
     "exception": false,
     "start_time": "2024-01-27T20:30:11.064838",
     "status": "completed"
    },
    "tags": []
   },
   "outputs": [
    {
     "data": {
      "text/html": [
       "<div>\n",
       "<style scoped>\n",
       "    .dataframe tbody tr th:only-of-type {\n",
       "        vertical-align: middle;\n",
       "    }\n",
       "\n",
       "    .dataframe tbody tr th {\n",
       "        vertical-align: top;\n",
       "    }\n",
       "\n",
       "    .dataframe thead th {\n",
       "        text-align: right;\n",
       "    }\n",
       "</style>\n",
       "<table border=\"1\" class=\"dataframe\">\n",
       "  <thead>\n",
       "    <tr style=\"text-align: right;\">\n",
       "      <th></th>\n",
       "      <th>name</th>\n",
       "      <th>region</th>\n",
       "      <th>hub_lng</th>\n",
       "      <th>hub_lat</th>\n",
       "      <th>hub_city</th>\n",
       "      <th>hub_suburb</th>\n",
       "      <th>vehicle_capacity</th>\n",
       "      <th>delivery_size</th>\n",
       "      <th>delivery_lng</th>\n",
       "      <th>delivery_lat</th>\n",
       "      <th>delivery_city</th>\n",
       "      <th>delivery_suburb</th>\n",
       "    </tr>\n",
       "  </thead>\n",
       "  <tbody>\n",
       "    <tr>\n",
       "      <th>0</th>\n",
       "      <td>cvrp-2-df-33</td>\n",
       "      <td>df-2</td>\n",
       "      <td>-48.054989</td>\n",
       "      <td>-15.838145</td>\n",
       "      <td>Taguatinga</td>\n",
       "      <td>Taguatinga</td>\n",
       "      <td>180</td>\n",
       "      <td>9</td>\n",
       "      <td>-48.116189</td>\n",
       "      <td>-15.848929</td>\n",
       "      <td>Ceilândia</td>\n",
       "      <td>P Sul</td>\n",
       "    </tr>\n",
       "    <tr>\n",
       "      <th>1</th>\n",
       "      <td>cvrp-2-df-33</td>\n",
       "      <td>df-2</td>\n",
       "      <td>-48.054989</td>\n",
       "      <td>-15.838145</td>\n",
       "      <td>Taguatinga</td>\n",
       "      <td>Taguatinga</td>\n",
       "      <td>180</td>\n",
       "      <td>2</td>\n",
       "      <td>-48.118195</td>\n",
       "      <td>-15.850772</td>\n",
       "      <td>Ceilândia</td>\n",
       "      <td>P Sul</td>\n",
       "    </tr>\n",
       "    <tr>\n",
       "      <th>2</th>\n",
       "      <td>cvrp-2-df-33</td>\n",
       "      <td>df-2</td>\n",
       "      <td>-48.054989</td>\n",
       "      <td>-15.838145</td>\n",
       "      <td>Taguatinga</td>\n",
       "      <td>Taguatinga</td>\n",
       "      <td>180</td>\n",
       "      <td>1</td>\n",
       "      <td>-48.112483</td>\n",
       "      <td>-15.847871</td>\n",
       "      <td>Ceilândia</td>\n",
       "      <td>P Sul</td>\n",
       "    </tr>\n",
       "    <tr>\n",
       "      <th>3</th>\n",
       "      <td>cvrp-2-df-33</td>\n",
       "      <td>df-2</td>\n",
       "      <td>-48.054989</td>\n",
       "      <td>-15.838145</td>\n",
       "      <td>Taguatinga</td>\n",
       "      <td>Taguatinga</td>\n",
       "      <td>180</td>\n",
       "      <td>2</td>\n",
       "      <td>-48.118023</td>\n",
       "      <td>-15.846471</td>\n",
       "      <td>Ceilândia</td>\n",
       "      <td>P Sul</td>\n",
       "    </tr>\n",
       "    <tr>\n",
       "      <th>4</th>\n",
       "      <td>cvrp-2-df-33</td>\n",
       "      <td>df-2</td>\n",
       "      <td>-48.054989</td>\n",
       "      <td>-15.838145</td>\n",
       "      <td>Taguatinga</td>\n",
       "      <td>Taguatinga</td>\n",
       "      <td>180</td>\n",
       "      <td>7</td>\n",
       "      <td>-48.114898</td>\n",
       "      <td>-15.858055</td>\n",
       "      <td>Sol Nascente/Pôr do Sol</td>\n",
       "      <td>Sol Nascente/Pôr do Sol</td>\n",
       "    </tr>\n",
       "  </tbody>\n",
       "</table>\n",
       "</div>"
      ],
      "text/plain": [
       "           name region    hub_lng    hub_lat    hub_city  hub_suburb  \\\n",
       "0  cvrp-2-df-33   df-2 -48.054989 -15.838145  Taguatinga  Taguatinga   \n",
       "1  cvrp-2-df-33   df-2 -48.054989 -15.838145  Taguatinga  Taguatinga   \n",
       "2  cvrp-2-df-33   df-2 -48.054989 -15.838145  Taguatinga  Taguatinga   \n",
       "3  cvrp-2-df-33   df-2 -48.054989 -15.838145  Taguatinga  Taguatinga   \n",
       "4  cvrp-2-df-33   df-2 -48.054989 -15.838145  Taguatinga  Taguatinga   \n",
       "\n",
       "   vehicle_capacity  delivery_size  delivery_lng  delivery_lat  \\\n",
       "0               180              9    -48.116189    -15.848929   \n",
       "1               180              2    -48.118195    -15.850772   \n",
       "2               180              1    -48.112483    -15.847871   \n",
       "3               180              2    -48.118023    -15.846471   \n",
       "4               180              7    -48.114898    -15.858055   \n",
       "\n",
       "             delivery_city          delivery_suburb  \n",
       "0                Ceilândia                    P Sul  \n",
       "1                Ceilândia                    P Sul  \n",
       "2                Ceilândia                    P Sul  \n",
       "3                Ceilândia                    P Sul  \n",
       "4  Sol Nascente/Pôr do Sol  Sol Nascente/Pôr do Sol  "
      ]
     },
     "execution_count": 25,
     "metadata": {},
     "output_type": "execute_result"
    }
   ],
   "source": [
    "deliveries_df = pd.merge(left=deliveries_df, right=deliveries_geodata_df[[\"delivery_city\", \"delivery_suburb\"]], how=\"inner\", left_index=True, right_index=True)\n",
    "\n",
    "deliveries_df.head()"
   ]
  },
  {
   "cell_type": "markdown",
   "id": "77608f50",
   "metadata": {
    "id": "8K_H6Vk5Q2fL",
    "papermill": {
     "duration": 0.028416,
     "end_time": "2024-01-27T20:30:11.257157",
     "exception": false,
     "start_time": "2024-01-27T20:30:11.228741",
     "status": "completed"
    },
    "tags": []
   },
   "source": [
    "Agora nosso dataframe está pronto. Para fins de descobrir a posição ideal dos HUBs de distribuição vamos calcular o centro geométrico das entregas, o centróide. O centróide é a média das coordenadas das entregas. Vamos juntá-las aos seus respectivos pares da coluna de região, mas manteremos num dataframe separado para referência posterior."
   ]
  },
  {
   "cell_type": "code",
   "execution_count": 26,
   "id": "a5baecbc",
   "metadata": {
    "execution": {
     "iopub.execute_input": "2024-01-27T20:30:11.316621Z",
     "iopub.status.busy": "2024-01-27T20:30:11.316176Z",
     "iopub.status.idle": "2024-01-27T20:30:11.415903Z",
     "shell.execute_reply": "2024-01-27T20:30:11.414810Z"
    },
    "id": "IIOOQNYj49h-",
    "outputId": "6fd6d57d-24ac-45eb-d901-e9b3c1b55092",
    "papermill": {
     "duration": 0.132318,
     "end_time": "2024-01-27T20:30:11.418657",
     "exception": false,
     "start_time": "2024-01-27T20:30:11.286339",
     "status": "completed"
    },
    "tags": []
   },
   "outputs": [
    {
     "data": {
      "text/html": [
       "<div>\n",
       "<style scoped>\n",
       "    .dataframe tbody tr th:only-of-type {\n",
       "        vertical-align: middle;\n",
       "    }\n",
       "\n",
       "    .dataframe tbody tr th {\n",
       "        vertical-align: top;\n",
       "    }\n",
       "\n",
       "    .dataframe thead th {\n",
       "        text-align: right;\n",
       "    }\n",
       "</style>\n",
       "<table border=\"1\" class=\"dataframe\">\n",
       "  <thead>\n",
       "    <tr style=\"text-align: right;\">\n",
       "      <th></th>\n",
       "      <th>region</th>\n",
       "      <th>centroid_lng</th>\n",
       "      <th>centroid_lat</th>\n",
       "    </tr>\n",
       "  </thead>\n",
       "  <tbody>\n",
       "    <tr>\n",
       "      <th>0</th>\n",
       "      <td>df-0</td>\n",
       "      <td>-47.765693</td>\n",
       "      <td>-15.664266</td>\n",
       "    </tr>\n",
       "    <tr>\n",
       "      <th>1</th>\n",
       "      <td>df-1</td>\n",
       "      <td>-47.893054</td>\n",
       "      <td>-15.801438</td>\n",
       "    </tr>\n",
       "    <tr>\n",
       "      <th>2</th>\n",
       "      <td>df-2</td>\n",
       "      <td>-48.056333</td>\n",
       "      <td>-15.857852</td>\n",
       "    </tr>\n",
       "  </tbody>\n",
       "</table>\n",
       "</div>"
      ],
      "text/plain": [
       "  region  centroid_lng  centroid_lat\n",
       "0   df-0    -47.765693    -15.664266\n",
       "1   df-1    -47.893054    -15.801438\n",
       "2   df-2    -48.056333    -15.857852"
      ]
     },
     "execution_count": 26,
     "metadata": {},
     "output_type": "execute_result"
    }
   ],
   "source": [
    "centroides_df = deliveries_df.groupby('region').agg({'delivery_lng': 'mean', 'delivery_lat': 'mean'}).reset_index(drop=False)\n",
    "centroides_df.rename(columns={\"delivery_lng\": \"centroid_lng\", \"delivery_lat\": \"centroid_lat\"}, inplace=True)\n",
    "\n",
    "centroides_df.head()"
   ]
  },
  {
   "cell_type": "markdown",
   "id": "e6341fd5",
   "metadata": {
    "id": "LYH4WPi_7se2",
    "papermill": {
     "duration": 0.028537,
     "end_time": "2024-01-27T20:30:11.477439",
     "exception": false,
     "start_time": "2024-01-27T20:30:11.448902",
     "status": "completed"
    },
    "tags": []
   },
   "source": [
    "Comparando numericamente os centróides e a posição dos seus respectivos hubs vemos uma diferença muito pequena. Mas observar o número das coordenadas sem ver a representação no mapa e sem saber a distancia real não é muito útil. Veremos mais adiante, mas por enquanto vamos analisar a qualidade dos dados do nosso dataframe."
   ]
  },
  {
   "cell_type": "code",
   "execution_count": 27,
   "id": "d40196b8",
   "metadata": {
    "execution": {
     "iopub.execute_input": "2024-01-27T20:30:11.539146Z",
     "iopub.status.busy": "2024-01-27T20:30:11.538712Z",
     "iopub.status.idle": "2024-01-27T20:30:11.943193Z",
     "shell.execute_reply": "2024-01-27T20:30:11.941487Z"
    },
    "id": "9mg4ou3zs5W4",
    "outputId": "f0f6e40d-5302-430c-e3a1-3323d186daf9",
    "papermill": {
     "duration": 0.439033,
     "end_time": "2024-01-27T20:30:11.945833",
     "exception": false,
     "start_time": "2024-01-27T20:30:11.506800",
     "status": "completed"
    },
    "tags": []
   },
   "outputs": [
    {
     "name": "stdout",
     "output_type": "stream",
     "text": [
      "<class 'pandas.core.frame.DataFrame'>\n",
      "RangeIndex: 636149 entries, 0 to 636148\n",
      "Data columns (total 12 columns):\n",
      " #   Column            Non-Null Count   Dtype  \n",
      "---  ------            --------------   -----  \n",
      " 0   name              636149 non-null  object \n",
      " 1   region            636149 non-null  object \n",
      " 2   hub_lng           636149 non-null  float64\n",
      " 3   hub_lat           636149 non-null  float64\n",
      " 4   hub_city          636149 non-null  object \n",
      " 5   hub_suburb        636149 non-null  object \n",
      " 6   vehicle_capacity  636149 non-null  int64  \n",
      " 7   delivery_size     636149 non-null  int64  \n",
      " 8   delivery_lng      636149 non-null  float64\n",
      " 9   delivery_lat      636149 non-null  float64\n",
      " 10  delivery_city     634447 non-null  object \n",
      " 11  delivery_suburb   476264 non-null  object \n",
      "dtypes: float64(4), int64(2), object(6)\n",
      "memory usage: 58.2+ MB\n"
     ]
    }
   ],
   "source": [
    "deliveries_df.info()"
   ]
  },
  {
   "cell_type": "markdown",
   "id": "1703ac42",
   "metadata": {
    "id": "nM4q-vVkU2wr",
    "papermill": {
     "duration": 0.029967,
     "end_time": "2024-01-27T20:30:12.004691",
     "exception": false,
     "start_time": "2024-01-27T20:30:11.974724",
     "status": "completed"
    },
    "tags": []
   },
   "source": [
    "Podemos obeservar que as colunas delivery_city e delivery_suburb tem dados nulos, especialmente o último. O tamanho do nosso arquivo tambem aumentou bastante com os dados extra."
   ]
  },
  {
   "cell_type": "code",
   "execution_count": 28,
   "id": "deb9d855",
   "metadata": {
    "execution": {
     "iopub.execute_input": "2024-01-27T20:30:12.065565Z",
     "iopub.status.busy": "2024-01-27T20:30:12.065112Z",
     "iopub.status.idle": "2024-01-27T20:30:12.456062Z",
     "shell.execute_reply": "2024-01-27T20:30:12.454847Z"
    },
    "id": "eazk7h2jtA4w",
    "outputId": "464903de-9054-435e-c93f-99b428fb706a",
    "papermill": {
     "duration": 0.42416,
     "end_time": "2024-01-27T20:30:12.458945",
     "exception": false,
     "start_time": "2024-01-27T20:30:12.034785",
     "status": "completed"
    },
    "tags": []
   },
   "outputs": [
    {
     "data": {
      "text/plain": [
       "name                False\n",
       "region              False\n",
       "hub_lng             False\n",
       "hub_lat             False\n",
       "hub_city            False\n",
       "hub_suburb          False\n",
       "vehicle_capacity    False\n",
       "delivery_size       False\n",
       "delivery_lng        False\n",
       "delivery_lat        False\n",
       "delivery_city        True\n",
       "delivery_suburb      True\n",
       "dtype: bool"
      ]
     },
     "execution_count": 28,
     "metadata": {},
     "output_type": "execute_result"
    }
   ],
   "source": [
    "deliveries_df.isna().any()"
   ]
  },
  {
   "cell_type": "markdown",
   "id": "1a4689f1",
   "metadata": {
    "id": "Vwb2fW3zVQRk",
    "papermill": {
     "duration": 0.028781,
     "end_time": "2024-01-27T20:30:12.517999",
     "exception": false,
     "start_time": "2024-01-27T20:30:12.489218",
     "status": "completed"
    },
    "tags": []
   },
   "source": [
    "Vamos ver em porcentagem o percentual de dados nulos:"
   ]
  },
  {
   "cell_type": "code",
   "execution_count": 29,
   "id": "706b1a8d",
   "metadata": {
    "execution": {
     "iopub.execute_input": "2024-01-27T20:30:12.578315Z",
     "iopub.status.busy": "2024-01-27T20:30:12.577928Z",
     "iopub.status.idle": "2024-01-27T20:30:12.652232Z",
     "shell.execute_reply": "2024-01-27T20:30:12.651144Z"
    },
    "id": "xOtruw2ZvI4K",
    "outputId": "eae56229-7306-40b4-a3ae-9f2da097f0c6",
    "papermill": {
     "duration": 0.107264,
     "end_time": "2024-01-27T20:30:12.654837",
     "exception": false,
     "start_time": "2024-01-27T20:30:12.547573",
     "status": "completed"
    },
    "tags": []
   },
   "outputs": [
    {
     "data": {
      "text/plain": [
       "0.26754738276724477"
      ]
     },
     "execution_count": 29,
     "metadata": {},
     "output_type": "execute_result"
    }
   ],
   "source": [
    "100 * (deliveries_df[\"delivery_city\"].isna().sum() / len(deliveries_df))"
   ]
  },
  {
   "cell_type": "code",
   "execution_count": 30,
   "id": "4117f17d",
   "metadata": {
    "execution": {
     "iopub.execute_input": "2024-01-27T20:30:12.715635Z",
     "iopub.status.busy": "2024-01-27T20:30:12.715173Z",
     "iopub.status.idle": "2024-01-27T20:30:12.776673Z",
     "shell.execute_reply": "2024-01-27T20:30:12.775649Z"
    },
    "id": "fCZSTNdpvNdJ",
    "outputId": "d0fb7cab-9b6e-42ac-ddd9-992c741789a7",
    "papermill": {
     "duration": 0.095109,
     "end_time": "2024-01-27T20:30:12.779378",
     "exception": false,
     "start_time": "2024-01-27T20:30:12.684269",
     "status": "completed"
    },
    "tags": []
   },
   "outputs": [
    {
     "data": {
      "text/plain": [
       "25.133262804783158"
      ]
     },
     "execution_count": 30,
     "metadata": {},
     "output_type": "execute_result"
    }
   ],
   "source": [
    "100 * (deliveries_df[\"delivery_suburb\"].isna().sum() / len(deliveries_df))"
   ]
  },
  {
   "cell_type": "markdown",
   "id": "ec17a205",
   "metadata": {
    "id": "B7IeQopxVW-8",
    "papermill": {
     "duration": 0.029644,
     "end_time": "2024-01-27T20:30:12.839021",
     "exception": false,
     "start_time": "2024-01-27T20:30:12.809377",
     "status": "completed"
    },
    "tags": []
   },
   "source": [
    "Uma grande parte da coluna \"delivery_suburb\" é de valores nulos, então talvez ela não se mostre tão útil. Vamos ver os valores mais comuns dessas duas colunas:"
   ]
  },
  {
   "cell_type": "code",
   "execution_count": 31,
   "id": "44d8e7f4",
   "metadata": {
    "execution": {
     "iopub.execute_input": "2024-01-27T20:30:12.900779Z",
     "iopub.status.busy": "2024-01-27T20:30:12.899444Z",
     "iopub.status.idle": "2024-01-27T20:30:13.058559Z",
     "shell.execute_reply": "2024-01-27T20:30:13.057435Z"
    },
    "id": "_UpJPYBVvRAp",
    "outputId": "a48a0833-50e9-429a-fb98-ea7b4f05c39f",
    "papermill": {
     "duration": 0.19272,
     "end_time": "2024-01-27T20:30:13.061522",
     "exception": false,
     "start_time": "2024-01-27T20:30:12.868802",
     "status": "completed"
    },
    "tags": []
   },
   "outputs": [
    {
     "data": {
      "text/plain": [
       "delivery_city       \n",
       "Brasília                0.234195\n",
       "Taguatinga              0.071625\n",
       "Sudoeste / Octogonal    0.069504\n",
       "Ceilândia               0.059661\n",
       "Águas Claras            0.058293\n",
       "Guará                   0.055619\n",
       "Lago Sul                0.045620\n",
       "Sobradinho              0.045412\n",
       "Lago Norte              0.040832\n",
       "Gama                    0.034880\n",
       "Name: count, dtype: float64"
      ]
     },
     "execution_count": 31,
     "metadata": {},
     "output_type": "execute_result"
    }
   ],
   "source": [
    "prop_df = deliveries_df[[\"delivery_city\"]].value_counts() / len(deliveries_df)\n",
    "prop_df.sort_values(ascending=False).head(10)"
   ]
  },
  {
   "cell_type": "markdown",
   "id": "14e5ce24",
   "metadata": {
    "id": "2YpWilQoVwVs",
    "papermill": {
     "duration": 0.029181,
     "end_time": "2024-01-27T20:30:13.119908",
     "exception": false,
     "start_time": "2024-01-27T20:30:13.090727",
     "status": "completed"
    },
    "tags": []
   },
   "source": [
    "Cerca de 23% dos dados estão como Brasília, o que não nos ajuda, pois Brasília não existe dentro desse contexto. Note que delivery_city se refere às regiões que compõem Brasília. Na coluna \"delivery_suburb\", que corresponde aos bairros, também temos algumas incidências de \"Brasília\", mas num percentual menos significante:"
   ]
  },
  {
   "cell_type": "code",
   "execution_count": 32,
   "id": "5950731a",
   "metadata": {
    "execution": {
     "iopub.execute_input": "2024-01-27T20:30:13.180324Z",
     "iopub.status.busy": "2024-01-27T20:30:13.179945Z",
     "iopub.status.idle": "2024-01-27T20:30:13.321273Z",
     "shell.execute_reply": "2024-01-27T20:30:13.319892Z"
    },
    "id": "gcvanBM2vK2z",
    "outputId": "f919fcf8-a3d0-46d4-eb29-5d5491d2abf8",
    "papermill": {
     "duration": 0.175066,
     "end_time": "2024-01-27T20:30:13.324193",
     "exception": false,
     "start_time": "2024-01-27T20:30:13.149127",
     "status": "completed"
    },
    "tags": []
   },
   "outputs": [
    {
     "data": {
      "text/plain": [
       "delivery_suburb \n",
       "Brasília            0.084564\n",
       "Asa Norte           0.076639\n",
       "Taguatinga          0.063363\n",
       "Asa Sul             0.059263\n",
       "Águas Claras        0.056598\n",
       "Guará               0.055619\n",
       "Samambaia           0.026514\n",
       "Sobradinho          0.018148\n",
       "Recanto das Emas    0.015029\n",
       "P Sul               0.012807\n",
       "Name: count, dtype: float64"
      ]
     },
     "execution_count": 32,
     "metadata": {},
     "output_type": "execute_result"
    }
   ],
   "source": [
    "prop_df = deliveries_df[[\"delivery_suburb\"]].value_counts() / len(deliveries_df)\n",
    "prop_df.sort_values(ascending=False).head(10)"
   ]
  },
  {
   "cell_type": "markdown",
   "id": "b03036a0",
   "metadata": {
    "id": "KSgjP--1JS9R",
    "papermill": {
     "duration": 0.029335,
     "end_time": "2024-01-27T20:30:13.383908",
     "exception": false,
     "start_time": "2024-01-27T20:30:13.354573",
     "status": "completed"
    },
    "tags": []
   },
   "source": [
    "## 5\\. Visualização"
   ]
  },
  {
   "cell_type": "markdown",
   "id": "7ae7b577",
   "metadata": {
    "id": "KTC6F3KoWnU0",
    "papermill": {
     "duration": 0.030371,
     "end_time": "2024-01-27T20:30:13.443756",
     "exception": false,
     "start_time": "2024-01-27T20:30:13.413385",
     "status": "completed"
    },
    "tags": []
   },
   "source": [
    "Agora vamos trabalhar na visualização de dados. Primeiro vamos ver como as entregas estão distribuídas. Faremos uma agregação para ver a proporção das entregas por região.\n"
   ]
  },
  {
   "cell_type": "code",
   "execution_count": 33,
   "id": "a3107900",
   "metadata": {
    "execution": {
     "iopub.execute_input": "2024-01-27T20:30:13.506648Z",
     "iopub.status.busy": "2024-01-27T20:30:13.505872Z",
     "iopub.status.idle": "2024-01-27T20:30:13.596511Z",
     "shell.execute_reply": "2024-01-27T20:30:13.595226Z"
    },
    "id": "dXJbQ2ZJx3pj",
    "outputId": "89b72d3f-3994-49ea-f46e-ff641a4c0944",
    "papermill": {
     "duration": 0.12511,
     "end_time": "2024-01-27T20:30:13.599226",
     "exception": false,
     "start_time": "2024-01-27T20:30:13.474116",
     "status": "completed"
    },
    "tags": []
   },
   "outputs": [
    {
     "data": {
      "text/html": [
       "<div>\n",
       "<style scoped>\n",
       "    .dataframe tbody tr th:only-of-type {\n",
       "        vertical-align: middle;\n",
       "    }\n",
       "\n",
       "    .dataframe tbody tr th {\n",
       "        vertical-align: top;\n",
       "    }\n",
       "\n",
       "    .dataframe thead th {\n",
       "        text-align: right;\n",
       "    }\n",
       "</style>\n",
       "<table border=\"1\" class=\"dataframe\">\n",
       "  <thead>\n",
       "    <tr style=\"text-align: right;\">\n",
       "      <th></th>\n",
       "      <th>region</th>\n",
       "      <th>region_percent</th>\n",
       "    </tr>\n",
       "  </thead>\n",
       "  <tbody>\n",
       "    <tr>\n",
       "      <th>0</th>\n",
       "      <td>df-1</td>\n",
       "      <td>0.478988</td>\n",
       "    </tr>\n",
       "    <tr>\n",
       "      <th>1</th>\n",
       "      <td>df-2</td>\n",
       "      <td>0.410783</td>\n",
       "    </tr>\n",
       "    <tr>\n",
       "      <th>2</th>\n",
       "      <td>df-0</td>\n",
       "      <td>0.110229</td>\n",
       "    </tr>\n",
       "  </tbody>\n",
       "</table>\n",
       "</div>"
      ],
      "text/plain": [
       "  region  region_percent\n",
       "0   df-1        0.478988\n",
       "1   df-2        0.410783\n",
       "2   df-0        0.110229"
      ]
     },
     "execution_count": 33,
     "metadata": {},
     "output_type": "execute_result"
    }
   ],
   "source": [
    "data = pd.DataFrame(deliveries_df[['region']].value_counts(normalize=True)).reset_index()\n",
    "data.rename(columns={\"proportion\": \"region_percent\"}, inplace=True)\n",
    "\n",
    "data.head()"
   ]
  },
  {
   "cell_type": "markdown",
   "id": "ed18244b",
   "metadata": {
    "id": "YUCcQ8npl5Qb",
    "papermill": {
     "duration": 0.029626,
     "end_time": "2024-01-27T20:30:13.659510",
     "exception": false,
     "start_time": "2024-01-27T20:30:13.629884",
     "status": "completed"
    },
    "tags": []
   },
   "source": [
    "Agora vamos ver como esses dados ficam num gráfico de barras:"
   ]
  },
  {
   "cell_type": "code",
   "execution_count": 34,
   "id": "ed6ca3ce",
   "metadata": {
    "execution": {
     "iopub.execute_input": "2024-01-27T20:30:13.722786Z",
     "iopub.status.busy": "2024-01-27T20:30:13.722320Z",
     "iopub.status.idle": "2024-01-27T20:30:14.108466Z",
     "shell.execute_reply": "2024-01-27T20:30:14.107085Z"
    },
    "id": "VspK2DSEx-T6",
    "outputId": "fdba5bf3-4663-4786-ecb6-2c6b26eb0512",
    "papermill": {
     "duration": 0.421203,
     "end_time": "2024-01-27T20:30:14.111617",
     "exception": false,
     "start_time": "2024-01-27T20:30:13.690414",
     "status": "completed"
    },
    "tags": []
   },
   "outputs": [
    {
     "name": "stderr",
     "output_type": "stream",
     "text": [
      "/tmp/ipykernel_18/2111424512.py:2: FutureWarning: \n",
      "\n",
      "The `ci` parameter is deprecated. Use `errorbar=None` for the same effect.\n",
      "\n",
      "  grafico = sns.barplot(data=data, x=\"region\", y=\"region_percent\", ci=None, palette=\"pastel\")\n"
     ]
    },
    {
     "data": {
      "image/png": "[encoded data removed]",
      "text/plain": [
       "<Figure size 640x480 with 1 Axes>"
      ]
     },
     "metadata": {},
     "output_type": "display_data"
    }
   ],
   "source": [
    "with sns.axes_style('whitegrid'):\n",
    "  grafico = sns.barplot(data=data, x=\"region\", y=\"region_percent\", ci=None, palette=\"pastel\")\n",
    "  grafico.set(title='Proporção de entregas por região', xlabel='Região', ylabel='Proporção');"
   ]
  },
  {
   "cell_type": "markdown",
   "id": "dd4661fd",
   "metadata": {
    "id": "kc6NQ78onAAd",
    "papermill": {
     "duration": 0.030396,
     "end_time": "2024-01-27T20:30:14.172445",
     "exception": false,
     "start_time": "2024-01-27T20:30:14.142049",
     "status": "completed"
    },
    "tags": []
   },
   "source": [
    "Chama atenção quão pequeno é o percentual da região 0 em comparação com as outras. Isso se deve à densidade populacional."
   ]
  },
  {
   "cell_type": "markdown",
   "id": "7f72822b",
   "metadata": {
    "papermill": {
     "duration": 0.031051,
     "end_time": "2024-01-27T20:30:14.235572",
     "exception": false,
     "start_time": "2024-01-27T20:30:14.204521",
     "status": "completed"
    },
    "tags": []
   },
   "source": [
    "Agora vamos plotar o gráfico da distribuição das entregas no mapa de Brasília. Primeiro baixaremos o shapefile da cidade de Brasília no site do IBGE, o descompactaremos e pegaremos os dois mapas de interesse:"
   ]
  },
  {
   "cell_type": "code",
   "execution_count": 35,
   "id": "b3e53570",
   "metadata": {
    "execution": {
     "iopub.execute_input": "2024-01-27T20:30:14.298514Z",
     "iopub.status.busy": "2024-01-27T20:30:14.298105Z",
     "iopub.status.idle": "2024-01-27T20:30:32.693683Z",
     "shell.execute_reply": "2024-01-27T20:30:32.692145Z"
    },
    "id": "ppQMdh49vzIx",
    "papermill": {
     "duration": 18.43047,
     "end_time": "2024-01-27T20:30:32.696642",
     "exception": false,
     "start_time": "2024-01-27T20:30:14.266172",
     "status": "completed"
    },
    "tags": []
   },
   "outputs": [],
   "source": [
    "!wget -q \"https://geoftp.ibge.gov.br/cartas_e_mapas/bases_cartograficas_continuas/bc100/go_df/versao2016/shapefile/bc100_go_df_shp.zip\" -O distrito-federal.zip\n",
    "!unzip -q distrito-federal.zip -d ./maps\n",
    "!cp ./maps/LIM_Unidade_Federacao_A.shp ./distrito-federal.shp\n",
    "!cp ./maps/LIM_Unidade_Federacao_A.shx ./distrito-federal.shx"
   ]
  },
  {
   "cell_type": "markdown",
   "id": "7c21bfe2",
   "metadata": {
    "id": "6kNs_bXsYAxC",
    "papermill": {
     "duration": 0.030461,
     "end_time": "2024-01-27T20:30:32.757981",
     "exception": false,
     "start_time": "2024-01-27T20:30:32.727520",
     "status": "completed"
    },
    "tags": []
   },
   "source": [
    "Vamos pegar apenas a primeira linha, pois é ela que corresponde ao Distrito Federal:"
   ]
  },
  {
   "cell_type": "code",
   "execution_count": 36,
   "id": "b1824eeb",
   "metadata": {
    "execution": {
     "iopub.execute_input": "2024-01-27T20:30:32.822138Z",
     "iopub.status.busy": "2024-01-27T20:30:32.821701Z",
     "iopub.status.idle": "2024-01-27T20:30:33.392498Z",
     "shell.execute_reply": "2024-01-27T20:30:33.391664Z"
    },
    "id": "CW-nW1_8wF4S",
    "outputId": "e5b788f9-53da-4b64-d392-02b9f3e3a91e",
    "papermill": {
     "duration": 0.606531,
     "end_time": "2024-01-27T20:30:33.395030",
     "exception": false,
     "start_time": "2024-01-27T20:30:32.788499",
     "status": "completed"
    },
    "tags": []
   },
   "outputs": [
    {
     "data": {
      "text/html": [
       "<div>\n",
       "<style scoped>\n",
       "    .dataframe tbody tr th:only-of-type {\n",
       "        vertical-align: middle;\n",
       "    }\n",
       "\n",
       "    .dataframe tbody tr th {\n",
       "        vertical-align: top;\n",
       "    }\n",
       "\n",
       "    .dataframe thead th {\n",
       "        text-align: right;\n",
       "    }\n",
       "</style>\n",
       "<table border=\"1\" class=\"dataframe\">\n",
       "  <thead>\n",
       "    <tr style=\"text-align: right;\">\n",
       "      <th></th>\n",
       "      <th>geometry</th>\n",
       "    </tr>\n",
       "  </thead>\n",
       "  <tbody>\n",
       "    <tr>\n",
       "      <th>0</th>\n",
       "      <td>POLYGON Z ((-47.31048 -16.03602 0.00000, -47.3...</td>\n",
       "    </tr>\n",
       "  </tbody>\n",
       "</table>\n",
       "</div>"
      ],
      "text/plain": [
       "                                            geometry\n",
       "0  POLYGON Z ((-47.31048 -16.03602 0.00000, -47.3..."
      ]
     },
     "execution_count": 36,
     "metadata": {},
     "output_type": "execute_result"
    }
   ],
   "source": [
    "mapa = geopandas.read_file(\"distrito-federal.shp\")\n",
    "mapa = mapa.loc[[0]]\n",
    "\n",
    "mapa.head()"
   ]
  },
  {
   "cell_type": "markdown",
   "id": "260dd87a",
   "metadata": {
    "id": "UCfpi1-RYWKk",
    "papermill": {
     "duration": 0.030522,
     "end_time": "2024-01-27T20:30:33.456463",
     "exception": false,
     "start_time": "2024-01-27T20:30:33.425941",
     "status": "completed"
    },
    "tags": []
   },
   "source": [
    "Temos o primeiro arquivo POLYGON Z. Agora vamos fazer o mapa dos Hubs. Criaremos coluna geometry com um método do próprio geopandas, onde passamos as informações de latitude e longitude."
   ]
  },
  {
   "cell_type": "code",
   "execution_count": 37,
   "id": "a850bcda",
   "metadata": {
    "execution": {
     "iopub.execute_input": "2024-01-27T20:30:33.522247Z",
     "iopub.status.busy": "2024-01-27T20:30:33.521250Z",
     "iopub.status.idle": "2024-01-27T20:30:33.651838Z",
     "shell.execute_reply": "2024-01-27T20:30:33.650553Z"
    },
    "id": "KpybgZXNwKIR",
    "outputId": "a0d0975f-4f62-47a9-aa76-7d29fdae736d",
    "papermill": {
     "duration": 0.165976,
     "end_time": "2024-01-27T20:30:33.654319",
     "exception": false,
     "start_time": "2024-01-27T20:30:33.488343",
     "status": "completed"
    },
    "tags": []
   },
   "outputs": [
    {
     "data": {
      "text/html": [
       "<div>\n",
       "<style scoped>\n",
       "    .dataframe tbody tr th:only-of-type {\n",
       "        vertical-align: middle;\n",
       "    }\n",
       "\n",
       "    .dataframe tbody tr th {\n",
       "        vertical-align: top;\n",
       "    }\n",
       "\n",
       "    .dataframe thead th {\n",
       "        text-align: right;\n",
       "    }\n",
       "</style>\n",
       "<table border=\"1\" class=\"dataframe\">\n",
       "  <thead>\n",
       "    <tr style=\"text-align: right;\">\n",
       "      <th></th>\n",
       "      <th>region</th>\n",
       "      <th>hub_lng</th>\n",
       "      <th>hub_lat</th>\n",
       "      <th>geometry</th>\n",
       "    </tr>\n",
       "  </thead>\n",
       "  <tbody>\n",
       "    <tr>\n",
       "      <th>0</th>\n",
       "      <td>df-2</td>\n",
       "      <td>-48.054989</td>\n",
       "      <td>-15.838145</td>\n",
       "      <td>POINT (-48.05499 -15.83814)</td>\n",
       "    </tr>\n",
       "    <tr>\n",
       "      <th>1</th>\n",
       "      <td>df-1</td>\n",
       "      <td>-47.893662</td>\n",
       "      <td>-15.805118</td>\n",
       "      <td>POINT (-47.89366 -15.80512)</td>\n",
       "    </tr>\n",
       "    <tr>\n",
       "      <th>2</th>\n",
       "      <td>df-0</td>\n",
       "      <td>-47.802665</td>\n",
       "      <td>-15.657014</td>\n",
       "      <td>POINT (-47.80266 -15.65701)</td>\n",
       "    </tr>\n",
       "  </tbody>\n",
       "</table>\n",
       "</div>"
      ],
      "text/plain": [
       "  region    hub_lng    hub_lat                     geometry\n",
       "0   df-2 -48.054989 -15.838145  POINT (-48.05499 -15.83814)\n",
       "1   df-1 -47.893662 -15.805118  POINT (-47.89366 -15.80512)\n",
       "2   df-0 -47.802665 -15.657014  POINT (-47.80266 -15.65701)"
      ]
     },
     "execution_count": 37,
     "metadata": {},
     "output_type": "execute_result"
    }
   ],
   "source": [
    "hub_df = deliveries_df[[\"region\", \"hub_lng\", \"hub_lat\"]].drop_duplicates().reset_index(drop=True)\n",
    "geo_hub_df = geopandas.GeoDataFrame(hub_df, geometry=geopandas.points_from_xy(hub_df[\"hub_lng\"], hub_df[\"hub_lat\"]))\n",
    "\n",
    "geo_hub_df.head()"
   ]
  },
  {
   "cell_type": "markdown",
   "id": "7d7357f9",
   "metadata": {
    "id": "f-RlMGu2Zl6O",
    "papermill": {
     "duration": 0.030416,
     "end_time": "2024-01-27T20:30:33.716090",
     "exception": false,
     "start_time": "2024-01-27T20:30:33.685674",
     "status": "completed"
    },
    "tags": []
   },
   "source": [
    "De maneira análoga faremos o mapeamento dos centróides."
   ]
  },
  {
   "cell_type": "code",
   "execution_count": 38,
   "id": "c77d1627",
   "metadata": {
    "execution": {
     "iopub.execute_input": "2024-01-27T20:30:33.780007Z",
     "iopub.status.busy": "2024-01-27T20:30:33.779305Z",
     "iopub.status.idle": "2024-01-27T20:30:33.798140Z",
     "shell.execute_reply": "2024-01-27T20:30:33.796857Z"
    },
    "id": "p96lCpY9-H4u",
    "outputId": "3abac643-6a3a-466c-98fd-132b2b303ced",
    "papermill": {
     "duration": 0.053961,
     "end_time": "2024-01-27T20:30:33.800749",
     "exception": false,
     "start_time": "2024-01-27T20:30:33.746788",
     "status": "completed"
    },
    "tags": []
   },
   "outputs": [
    {
     "data": {
      "text/html": [
       "<div>\n",
       "<style scoped>\n",
       "    .dataframe tbody tr th:only-of-type {\n",
       "        vertical-align: middle;\n",
       "    }\n",
       "\n",
       "    .dataframe tbody tr th {\n",
       "        vertical-align: top;\n",
       "    }\n",
       "\n",
       "    .dataframe thead th {\n",
       "        text-align: right;\n",
       "    }\n",
       "</style>\n",
       "<table border=\"1\" class=\"dataframe\">\n",
       "  <thead>\n",
       "    <tr style=\"text-align: right;\">\n",
       "      <th></th>\n",
       "      <th>region</th>\n",
       "      <th>centroid_lng</th>\n",
       "      <th>centroid_lat</th>\n",
       "      <th>geometry</th>\n",
       "    </tr>\n",
       "  </thead>\n",
       "  <tbody>\n",
       "    <tr>\n",
       "      <th>0</th>\n",
       "      <td>df-0</td>\n",
       "      <td>-47.765693</td>\n",
       "      <td>-15.664266</td>\n",
       "      <td>POINT (-47.76569 -15.66427)</td>\n",
       "    </tr>\n",
       "    <tr>\n",
       "      <th>1</th>\n",
       "      <td>df-1</td>\n",
       "      <td>-47.893054</td>\n",
       "      <td>-15.801438</td>\n",
       "      <td>POINT (-47.89305 -15.80144)</td>\n",
       "    </tr>\n",
       "    <tr>\n",
       "      <th>2</th>\n",
       "      <td>df-2</td>\n",
       "      <td>-48.056333</td>\n",
       "      <td>-15.857852</td>\n",
       "      <td>POINT (-48.05633 -15.85785)</td>\n",
       "    </tr>\n",
       "  </tbody>\n",
       "</table>\n",
       "</div>"
      ],
      "text/plain": [
       "  region  centroid_lng  centroid_lat                     geometry\n",
       "0   df-0    -47.765693    -15.664266  POINT (-47.76569 -15.66427)\n",
       "1   df-1    -47.893054    -15.801438  POINT (-47.89305 -15.80144)\n",
       "2   df-2    -48.056333    -15.857852  POINT (-48.05633 -15.85785)"
      ]
     },
     "execution_count": 38,
     "metadata": {},
     "output_type": "execute_result"
    }
   ],
   "source": [
    "geo_centroides_df = geopandas.GeoDataFrame(centroides_df, geometry=geopandas.points_from_xy(centroides_df['centroid_lng'], centroides_df['centroid_lat']))\n",
    "\n",
    "geo_centroides_df.head()"
   ]
  },
  {
   "cell_type": "markdown",
   "id": "0d92ee2d",
   "metadata": {
    "id": "VxY37RF-Z5ve",
    "papermill": {
     "duration": 0.030845,
     "end_time": "2024-01-27T20:30:33.862665",
     "exception": false,
     "start_time": "2024-01-27T20:30:33.831820",
     "status": "completed"
    },
    "tags": []
   },
   "source": [
    "Por fim, faremos o mapeamento de todas as entregas."
   ]
  },
  {
   "cell_type": "code",
   "execution_count": 39,
   "id": "ec5f2f92",
   "metadata": {
    "execution": {
     "iopub.execute_input": "2024-01-27T20:30:33.927240Z",
     "iopub.status.busy": "2024-01-27T20:30:33.926757Z",
     "iopub.status.idle": "2024-01-27T20:31:09.303794Z",
     "shell.execute_reply": "2024-01-27T20:31:09.302404Z"
    },
    "id": "Plxs9KwhwOkh",
    "outputId": "f4d59dcf-977e-430f-d294-2ca5bad33a18",
    "papermill": {
     "duration": 35.443831,
     "end_time": "2024-01-27T20:31:09.337405",
     "exception": false,
     "start_time": "2024-01-27T20:30:33.893574",
     "status": "completed"
    },
    "tags": []
   },
   "outputs": [
    {
     "data": {
      "text/html": [
       "<div>\n",
       "<style scoped>\n",
       "    .dataframe tbody tr th:only-of-type {\n",
       "        vertical-align: middle;\n",
       "    }\n",
       "\n",
       "    .dataframe tbody tr th {\n",
       "        vertical-align: top;\n",
       "    }\n",
       "\n",
       "    .dataframe thead th {\n",
       "        text-align: right;\n",
       "    }\n",
       "</style>\n",
       "<table border=\"1\" class=\"dataframe\">\n",
       "  <thead>\n",
       "    <tr style=\"text-align: right;\">\n",
       "      <th></th>\n",
       "      <th>name</th>\n",
       "      <th>region</th>\n",
       "      <th>hub_lng</th>\n",
       "      <th>hub_lat</th>\n",
       "      <th>hub_city</th>\n",
       "      <th>hub_suburb</th>\n",
       "      <th>vehicle_capacity</th>\n",
       "      <th>delivery_size</th>\n",
       "      <th>delivery_lng</th>\n",
       "      <th>delivery_lat</th>\n",
       "      <th>delivery_city</th>\n",
       "      <th>delivery_suburb</th>\n",
       "      <th>geometry</th>\n",
       "    </tr>\n",
       "  </thead>\n",
       "  <tbody>\n",
       "    <tr>\n",
       "      <th>0</th>\n",
       "      <td>cvrp-2-df-33</td>\n",
       "      <td>df-2</td>\n",
       "      <td>-48.054989</td>\n",
       "      <td>-15.838145</td>\n",
       "      <td>Taguatinga</td>\n",
       "      <td>Taguatinga</td>\n",
       "      <td>180</td>\n",
       "      <td>9</td>\n",
       "      <td>-48.116189</td>\n",
       "      <td>-15.848929</td>\n",
       "      <td>Ceilândia</td>\n",
       "      <td>P Sul</td>\n",
       "      <td>POINT (-48.11619 -15.84893)</td>\n",
       "    </tr>\n",
       "    <tr>\n",
       "      <th>1</th>\n",
       "      <td>cvrp-2-df-33</td>\n",
       "      <td>df-2</td>\n",
       "      <td>-48.054989</td>\n",
       "      <td>-15.838145</td>\n",
       "      <td>Taguatinga</td>\n",
       "      <td>Taguatinga</td>\n",
       "      <td>180</td>\n",
       "      <td>2</td>\n",
       "      <td>-48.118195</td>\n",
       "      <td>-15.850772</td>\n",
       "      <td>Ceilândia</td>\n",
       "      <td>P Sul</td>\n",
       "      <td>POINT (-48.11819 -15.85077)</td>\n",
       "    </tr>\n",
       "    <tr>\n",
       "      <th>2</th>\n",
       "      <td>cvrp-2-df-33</td>\n",
       "      <td>df-2</td>\n",
       "      <td>-48.054989</td>\n",
       "      <td>-15.838145</td>\n",
       "      <td>Taguatinga</td>\n",
       "      <td>Taguatinga</td>\n",
       "      <td>180</td>\n",
       "      <td>1</td>\n",
       "      <td>-48.112483</td>\n",
       "      <td>-15.847871</td>\n",
       "      <td>Ceilândia</td>\n",
       "      <td>P Sul</td>\n",
       "      <td>POINT (-48.11248 -15.84787)</td>\n",
       "    </tr>\n",
       "    <tr>\n",
       "      <th>3</th>\n",
       "      <td>cvrp-2-df-33</td>\n",
       "      <td>df-2</td>\n",
       "      <td>-48.054989</td>\n",
       "      <td>-15.838145</td>\n",
       "      <td>Taguatinga</td>\n",
       "      <td>Taguatinga</td>\n",
       "      <td>180</td>\n",
       "      <td>2</td>\n",
       "      <td>-48.118023</td>\n",
       "      <td>-15.846471</td>\n",
       "      <td>Ceilândia</td>\n",
       "      <td>P Sul</td>\n",
       "      <td>POINT (-48.11802 -15.84647)</td>\n",
       "    </tr>\n",
       "    <tr>\n",
       "      <th>4</th>\n",
       "      <td>cvrp-2-df-33</td>\n",
       "      <td>df-2</td>\n",
       "      <td>-48.054989</td>\n",
       "      <td>-15.838145</td>\n",
       "      <td>Taguatinga</td>\n",
       "      <td>Taguatinga</td>\n",
       "      <td>180</td>\n",
       "      <td>7</td>\n",
       "      <td>-48.114898</td>\n",
       "      <td>-15.858055</td>\n",
       "      <td>Sol Nascente/Pôr do Sol</td>\n",
       "      <td>Sol Nascente/Pôr do Sol</td>\n",
       "      <td>POINT (-48.11490 -15.85805)</td>\n",
       "    </tr>\n",
       "  </tbody>\n",
       "</table>\n",
       "</div>"
      ],
      "text/plain": [
       "           name region    hub_lng    hub_lat    hub_city  hub_suburb  \\\n",
       "0  cvrp-2-df-33   df-2 -48.054989 -15.838145  Taguatinga  Taguatinga   \n",
       "1  cvrp-2-df-33   df-2 -48.054989 -15.838145  Taguatinga  Taguatinga   \n",
       "2  cvrp-2-df-33   df-2 -48.054989 -15.838145  Taguatinga  Taguatinga   \n",
       "3  cvrp-2-df-33   df-2 -48.054989 -15.838145  Taguatinga  Taguatinga   \n",
       "4  cvrp-2-df-33   df-2 -48.054989 -15.838145  Taguatinga  Taguatinga   \n",
       "\n",
       "   vehicle_capacity  delivery_size  delivery_lng  delivery_lat  \\\n",
       "0               180              9    -48.116189    -15.848929   \n",
       "1               180              2    -48.118195    -15.850772   \n",
       "2               180              1    -48.112483    -15.847871   \n",
       "3               180              2    -48.118023    -15.846471   \n",
       "4               180              7    -48.114898    -15.858055   \n",
       "\n",
       "             delivery_city          delivery_suburb  \\\n",
       "0                Ceilândia                    P Sul   \n",
       "1                Ceilândia                    P Sul   \n",
       "2                Ceilândia                    P Sul   \n",
       "3                Ceilândia                    P Sul   \n",
       "4  Sol Nascente/Pôr do Sol  Sol Nascente/Pôr do Sol   \n",
       "\n",
       "                      geometry  \n",
       "0  POINT (-48.11619 -15.84893)  \n",
       "1  POINT (-48.11819 -15.85077)  \n",
       "2  POINT (-48.11248 -15.84787)  \n",
       "3  POINT (-48.11802 -15.84647)  \n",
       "4  POINT (-48.11490 -15.85805)  "
      ]
     },
     "execution_count": 39,
     "metadata": {},
     "output_type": "execute_result"
    }
   ],
   "source": [
    "geo_deliveries_df = geopandas.GeoDataFrame(deliveries_df, geometry=geopandas.points_from_xy(deliveries_df[\"delivery_lng\"], deliveries_df[\"delivery_lat\"]))\n",
    "\n",
    "geo_deliveries_df.head()"
   ]
  },
  {
   "cell_type": "markdown",
   "id": "fe31ebce",
   "metadata": {
    "id": "FSXACsv_aKh1",
    "papermill": {
     "duration": 0.03195,
     "end_time": "2024-01-27T20:31:09.401003",
     "exception": false,
     "start_time": "2024-01-27T20:31:09.369053",
     "status": "completed"
    },
    "tags": []
   },
   "source": [
    "Com a geometria de todos os mapas em mãos podemos fazer o nosso gráfico. Vamos plotar utilizando matplotlib:"
   ]
  },
  {
   "cell_type": "code",
   "execution_count": 40,
   "id": "e25c9795",
   "metadata": {
    "execution": {
     "iopub.execute_input": "2024-01-27T20:31:09.466736Z",
     "iopub.status.busy": "2024-01-27T20:31:09.466284Z",
     "iopub.status.idle": "2024-01-27T20:32:15.480943Z",
     "shell.execute_reply": "2024-01-27T20:32:15.479998Z"
    },
    "id": "SJTI9fGmwYlR",
    "outputId": "0125296b-0739-4188-d5f1-b55e1809b0f3",
    "papermill": {
     "duration": 66.05247,
     "end_time": "2024-01-27T20:32:15.485983",
     "exception": false,
     "start_time": "2024-01-27T20:31:09.433513",
     "status": "completed"
    },
    "tags": []
   },
   "outputs": [
    {
     "name": "stderr",
     "output_type": "stream",
     "text": [
      "/tmp/ipykernel_18/1747881346.py:21: MatplotlibDeprecationWarning: The legendHandles attribute was deprecated in Matplotlib 3.7 and will be removed two minor releases later. Use legend_handles instead.\n",
      "  for handle in lgnd.legendHandles:\n"
     ]
    },
    {
     "data": {
      "image/png": "[encoded data removed]",
      "text/plain": [
       "<Figure size 1968.5x1968.5 with 1 Axes>"
      ]
     },
     "metadata": {},
     "output_type": "display_data"
    }
   ],
   "source": [
    "# cria o plot vazio\n",
    "fig, ax = plt.subplots(figsize = (50/2.54, 50/2.54))\n",
    "\n",
    "# plot mapa do distrito federal\n",
    "mapa.plot(ax=ax, alpha=0.4, color=\"lightgrey\")\n",
    "\n",
    "# plot das entregas\n",
    "geo_deliveries_df.query(\"region == 'df-0'\").plot(ax=ax, markersize=1, color=\"red\", label=\"df-0\")\n",
    "geo_deliveries_df.query(\"region == 'df-1'\").plot(ax=ax, markersize=1, color=\"blue\", label=\"df-1\")\n",
    "geo_deliveries_df.query(\"region == 'df-2'\").plot(ax=ax, markersize=1, color=\"seagreen\", label=\"df-2\")\n",
    "\n",
    "# plot dos hubs\n",
    "geo_hub_df.plot(ax=ax, markersize=30, marker=\"x\", color=\"black\", label=\"hub\")\n",
    "\n",
    "# plot dos centróides\n",
    "geo_centroides_df.plot(ax=ax, markersize=30, marker=\"+\", color=\"black\", label=\"centróide\")\n",
    "\n",
    "# plot da legenda\n",
    "plt.title(\"Entregas no Distrito Federal por Região\", fontdict={\"fontsize\": 16})\n",
    "lgnd = plt.legend(prop={\"size\": 15})\n",
    "for handle in lgnd.legendHandles:\n",
    "    handle.set_sizes([50])"
   ]
  },
  {
   "cell_type": "markdown",
   "id": "2ed4ac6d",
   "metadata": {
    "id": "-B1ai8gSb-VG",
    "papermill": {
     "duration": 0.035575,
     "end_time": "2024-01-27T20:32:15.557737",
     "exception": false,
     "start_time": "2024-01-27T20:32:15.522162",
     "status": "completed"
    },
    "tags": []
   },
   "source": [
    "Agora podemos visualizar claramente a distribuição das entregas por hub, onde cada ponto colorido representa uma entrega. Os x indicam os hubs e os + representam os centróides das entregas por região.\n",
    "\n",
    "Observamos que o hub da região 1 (azul) está muito próximo do seu centróide, enquanto os hubs das outras regiões não tanto. Mas antes de tirarmos qualquer conclusão, é essencial determinar as distâncias numéricas entre eles. Vamos calcular essas distâncias usando o método geodesic do geopy."
   ]
  },
  {
   "cell_type": "code",
   "execution_count": 41,
   "id": "f0caa498",
   "metadata": {
    "execution": {
     "iopub.execute_input": "2024-01-27T20:32:15.631003Z",
     "iopub.status.busy": "2024-01-27T20:32:15.630550Z",
     "iopub.status.idle": "2024-01-27T20:32:15.651364Z",
     "shell.execute_reply": "2024-01-27T20:32:15.650227Z"
    },
    "id": "HyFbcF48c90m",
    "outputId": "718bc6c6-d969-498e-dcf4-a80aed319e38",
    "papermill": {
     "duration": 0.060341,
     "end_time": "2024-01-27T20:32:15.653969",
     "exception": false,
     "start_time": "2024-01-27T20:32:15.593628",
     "status": "completed"
    },
    "tags": []
   },
   "outputs": [
    {
     "data": {
      "text/html": [
       "<div>\n",
       "<style scoped>\n",
       "    .dataframe tbody tr th:only-of-type {\n",
       "        vertical-align: middle;\n",
       "    }\n",
       "\n",
       "    .dataframe tbody tr th {\n",
       "        vertical-align: top;\n",
       "    }\n",
       "\n",
       "    .dataframe thead th {\n",
       "        text-align: right;\n",
       "    }\n",
       "</style>\n",
       "<table border=\"1\" class=\"dataframe\">\n",
       "  <thead>\n",
       "    <tr style=\"text-align: right;\">\n",
       "      <th></th>\n",
       "      <th>region</th>\n",
       "      <th>distancia_km</th>\n",
       "    </tr>\n",
       "  </thead>\n",
       "  <tbody>\n",
       "    <tr>\n",
       "      <th>0</th>\n",
       "      <td>df-2</td>\n",
       "      <td>2.185556</td>\n",
       "    </tr>\n",
       "    <tr>\n",
       "      <th>1</th>\n",
       "      <td>df-1</td>\n",
       "      <td>0.412295</td>\n",
       "    </tr>\n",
       "    <tr>\n",
       "      <th>2</th>\n",
       "      <td>df-0</td>\n",
       "      <td>4.044292</td>\n",
       "    </tr>\n",
       "  </tbody>\n",
       "</table>\n",
       "</div>"
      ],
      "text/plain": [
       "  region  distancia_km\n",
       "0   df-2      2.185556\n",
       "1   df-1      0.412295\n",
       "2   df-0      4.044292"
      ]
     },
     "execution_count": 41,
     "metadata": {},
     "output_type": "execute_result"
    }
   ],
   "source": [
    "# Função para calcular a distância entre o hub e o centróide\n",
    "def calcular_distancia(row):\n",
    "    centroid_coords = (centroides_df.loc[centroides_df['region'] == row['region'], 'centroid_lat'].values[0], centroides_df.loc[centroides_df['region'] == row['region'], 'centroid_lng'].values[0])\n",
    "    hub_coords = (row['hub_lat'], row['hub_lng'])\n",
    "    return geodesic(centroid_coords, hub_coords).kilometers\n",
    "\n",
    "# Aplicar a função para cada linha do DataFrame e criar um novo DataFrame com os resultados\n",
    "hub_vs_centroide_df = hub_df[['region']].copy()\n",
    "hub_vs_centroide_df['distancia_km'] = hub_df.apply(calcular_distancia, axis=1)\n",
    "\n",
    "hub_vs_centroide_df.head()\n"
   ]
  },
  {
   "cell_type": "markdown",
   "id": "3b24b840",
   "metadata": {
    "id": "_pZNfFrOc-NG",
    "papermill": {
     "duration": 0.037172,
     "end_time": "2024-01-27T20:32:15.727017",
     "exception": false,
     "start_time": "2024-01-27T20:32:15.689845",
     "status": "completed"
    },
    "tags": []
   },
   "source": [
    "Obtemos as distâncias, mas o que elas nos dizem? De modo geral, hubs mais próximos dos centróides podem indicar uma maior eficiência logística, pois os veículos de entrega precisam percorrer distâncias menores para atender às demandas da região. 4km de distância desse ideal teórico pode fazer uma diferença considerável no longo prazo. Mas é essencial considerar também outros fatores, por exemplo, a acessibilidade, a proximidade das principais rotas de transporte, a infraestrutura existente e os custos de mudança. Isso sugere que pode ser benéfico um estudo mais minucioso do reposicionamento do hub, levando em consideração uma gama mais ampla de variáveis e uma profunda análise de custo-benefício."
   ]
  }
 ],
 "metadata": {
  "colab": {
   "provenance": []
  },
  "kaggle": {
   "accelerator": "none",
   "dataSources": [],
   "dockerImageVersionId": 30635,
   "isGpuEnabled": false,
   "isInternetEnabled": true,
   "language": "python",
   "sourceType": "notebook"
  },
  "kernelspec": {
   "display_name": "Python 3",
   "language": "python",
   "name": "python3"
  },
  "language_info": {
   "codemirror_mode": {
    "name": "ipython",
    "version": 3
   },
   "file_extension": ".py",
   "mimetype": "text/x-python",
   "name": "python",
   "nbconvert_exporter": "python",
   "pygments_lexer": "ipython3",
   "version": "3.10.12"
  },
  "papermill": {
   "default_parameters": {},
   "duration": 174.665884,
   "end_time": "2024-01-27T20:32:18.384304",
   "environment_variables": {},
   "exception": null,
   "input_path": "__notebook__.ipynb",
   "output_path": "__notebook__.ipynb",
   "parameters": {},
   "start_time": "2024-01-27T20:29:23.718420",
   "version": "2.4.0"
  }
 },
 "nbformat": 4,
 "nbformat_minor": 5
}
